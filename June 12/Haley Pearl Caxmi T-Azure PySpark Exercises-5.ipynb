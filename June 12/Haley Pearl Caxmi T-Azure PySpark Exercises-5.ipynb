{
 "cells": [
  {
   "cell_type": "code",
   "execution_count": 0,
   "metadata": {
    "application/vnd.databricks.v1+cell": {
     "cellMetadata": {
      "byteLimit": 2048000,
      "rowLimit": 10000
     },
     "inputWidgets": {},
     "nuid": "b851b6a2-17e8-43f1-bc11-dae1e24cf044",
     "showTitle": false,
     "tableResultSettingsMap": {},
     "title": ""
    }
   },
   "outputs": [
    {
     "output_type": "execute_result",
     "data": {
      "text/html": [
       "\n",
       "            <div>\n",
       "                <p><b>SparkSession - hive</b></p>\n",
       "                \n",
       "        <div>\n",
       "            <p><b>SparkContext</b></p>\n",
       "\n",
       "            <p><a href=\"/?o=646246312757540#setting/sparkui/0611-043435-vg20yowf/driver-1370259015071720011\">Spark UI</a></p>\n",
       "\n",
       "            <dl>\n",
       "              <dt>Version</dt>\n",
       "                <dd><code>v3.5.0</code></dd>\n",
       "              <dt>Master</dt>\n",
       "                <dd><code>local[*, 4]</code></dd>\n",
       "              <dt>AppName</dt>\n",
       "                <dd><code>Databricks Shell</code></dd>\n",
       "            </dl>\n",
       "        </div>\n",
       "        \n",
       "            </div>\n",
       "        "
      ],
      "text/plain": [
       "<pyspark.sql.session.SparkSession at 0x7df1d0b8c790>"
      ]
     },
     "execution_count": 1,
     "metadata": {},
     "output_type": "execute_result"
    }
   ],
   "source": [
    "from pyspark.sql import SparkSession\n",
    "spark"
   ]
  },
  {
   "cell_type": "code",
   "execution_count": 0,
   "metadata": {
    "application/vnd.databricks.v1+cell": {
     "cellMetadata": {
      "byteLimit": 2048000,
      "rowLimit": 10000
     },
     "inputWidgets": {},
     "nuid": "e02259c8-a531-42fe-b0b0-71063480ae04",
     "showTitle": false,
     "tableResultSettingsMap": {},
     "title": ""
    }
   },
   "outputs": [
    {
     "output_type": "stream",
     "name": "stdout",
     "output_type": "stream",
     "text": [
      "+------+--------+-------------------+--------+-------+-------+\n|UserID|Page    |Timestamp          |Duration|Device |Country|\n+------+--------+-------------------+--------+-------+-------+\n|1     |Home    |2024-04-10 10:00:00|35      |Mobile |India  |\n|2     |Products|2024-04-10 10:02:00|120     |Desktop|USA    |\n|3     |Cart    |2024-04-10 10:05:00|45      |Tablet |UK     |\n|1     |Checkout|2024-04-10 10:08:00|60      |Mobile |India  |\n|4     |Home    |2024-04-10 10:10:00|15      |Mobile |Canada |\n|2     |Contact |2024-04-10 10:15:00|25      |Desktop|USA    |\n|5     |Products|2024-04-10 10:20:00|90      |Desktop|India  |\n+------+--------+-------------------+--------+-------+-------+\n\n"
     ]
    }
   ],
   "source": [
    "# Create web_traffic_data DataFrame\n",
    "from pyspark.sql import Row\n",
    "\n",
    "web_data = [\n",
    "    Row(UserID=1, Page=\"Home\", Timestamp=\"2024-04-10 10:00:00\", Duration=35, Device=\"Mobile\", Country=\"India\"),\n",
    "    Row(UserID=2, Page=\"Products\", Timestamp=\"2024-04-10 10:02:00\", Duration=120, Device=\"Desktop\", Country=\"USA\"),\n",
    "    Row(UserID=3, Page=\"Cart\", Timestamp=\"2024-04-10 10:05:00\", Duration=45, Device=\"Tablet\", Country=\"UK\"),\n",
    "    Row(UserID=1, Page=\"Checkout\", Timestamp=\"2024-04-10 10:08:00\", Duration=60, Device=\"Mobile\", Country=\"India\"),\n",
    "    Row(UserID=4, Page=\"Home\", Timestamp=\"2024-04-10 10:10:00\", Duration=15, Device=\"Mobile\", Country=\"Canada\"),\n",
    "    Row(UserID=2, Page=\"Contact\", Timestamp=\"2024-04-10 10:15:00\", Duration=25, Device=\"Desktop\", Country=\"USA\"),\n",
    "    Row(UserID=5, Page=\"Products\", Timestamp=\"2024-04-10 10:20:00\", Duration=90, Device=\"Desktop\", Country=\"India\"),\n",
    "]\n",
    "\n",
    "df_web = spark.createDataFrame(web_data)\n",
    "df_web.show(truncate=False)\n"
   ]
  },
  {
   "cell_type": "code",
   "execution_count": 0,
   "metadata": {
    "application/vnd.databricks.v1+cell": {
     "cellMetadata": {
      "byteLimit": 2048000,
      "rowLimit": 10000
     },
     "inputWidgets": {},
     "nuid": "cb3f19b4-5b10-4a05-add0-8c612f9efbfc",
     "showTitle": false,
     "tableResultSettingsMap": {},
     "title": ""
    }
   },
   "outputs": [
    {
     "output_type": "stream",
     "name": "stdout",
     "output_type": "stream",
     "text": [
      "root\n |-- UserID: long (nullable = true)\n |-- Page: string (nullable = true)\n |-- Timestamp: string (nullable = true)\n |-- Duration: long (nullable = true)\n |-- Device: string (nullable = true)\n |-- Country: string (nullable = true)\n\n"
     ]
    }
   ],
   "source": [
    "#1 Display schema\n",
    "df_web.printSchema()\n"
   ]
  },
  {
   "cell_type": "code",
   "execution_count": 0,
   "metadata": {
    "application/vnd.databricks.v1+cell": {
     "cellMetadata": {
      "byteLimit": 2048000,
      "rowLimit": 10000
     },
     "inputWidgets": {},
     "nuid": "3994dca9-3a38-4dcf-9e41-cdabcbb7b373",
     "showTitle": false,
     "tableResultSettingsMap": {},
     "title": ""
    }
   },
   "outputs": [
    {
     "output_type": "stream",
     "name": "stdout",
     "output_type": "stream",
     "text": [
      "+------+--------+-------------------+--------+-------+-------+\n|UserID|Page    |Timestamp          |Duration|Device |Country|\n+------+--------+-------------------+--------+-------+-------+\n|1     |Home    |2024-04-10 10:00:00|35      |Mobile |India  |\n|2     |Products|2024-04-10 10:02:00|120     |Desktop|USA    |\n|3     |Cart    |2024-04-10 10:05:00|45      |Tablet |UK     |\n|1     |Checkout|2024-04-10 10:08:00|60      |Mobile |India  |\n|4     |Home    |2024-04-10 10:10:00|15      |Mobile |Canada |\n|2     |Contact |2024-04-10 10:15:00|25      |Desktop|USA    |\n|5     |Products|2024-04-10 10:20:00|90      |Desktop|India  |\n+------+--------+-------------------+--------+-------+-------+\n\n"
     ]
    }
   ],
   "source": [
    "#2 Convert Timestamp to proper type\n",
    "from pyspark.sql.functions import to_timestamp\n",
    "\n",
    "df_web_ts = df_web.withColumn(\"Timestamp\", to_timestamp(\"Timestamp\", \"yyyy-MM-dd HH:mm:ss\"))\n",
    "df_web_ts.show(truncate=False)\n"
   ]
  },
  {
   "cell_type": "code",
   "execution_count": 0,
   "metadata": {
    "application/vnd.databricks.v1+cell": {
     "cellMetadata": {
      "byteLimit": 2048000,
      "rowLimit": 10000
     },
     "inputWidgets": {},
     "nuid": "d8ff59f4-d03b-4490-87b2-61e1587a3063",
     "showTitle": false,
     "tableResultSettingsMap": {},
     "title": ""
    }
   },
   "outputs": [
    {
     "output_type": "stream",
     "name": "stdout",
     "output_type": "stream",
     "text": [
      "+------+--------+-------------------+-------------+\n|UserID|    Page|          Timestamp|SessionMinute|\n+------+--------+-------------------+-------------+\n|     1|    Home|2024-04-10 10:00:00|            0|\n|     2|Products|2024-04-10 10:02:00|            2|\n|     3|    Cart|2024-04-10 10:05:00|            5|\n|     1|Checkout|2024-04-10 10:08:00|            8|\n|     4|    Home|2024-04-10 10:10:00|           10|\n|     2| Contact|2024-04-10 10:15:00|           15|\n|     5|Products|2024-04-10 10:20:00|           20|\n+------+--------+-------------------+-------------+\n\n"
     ]
    }
   ],
   "source": [
    "#3 Add SessionMinute column\n",
    "from pyspark.sql.functions import minute\n",
    "\n",
    "df_web_ts = df_web_ts.withColumn(\"SessionMinute\", minute(\"Timestamp\"))\n",
    "df_web_ts.select(\"UserID\", \"Page\", \"Timestamp\", \"SessionMinute\").show()\n"
   ]
  },
  {
   "cell_type": "code",
   "execution_count": 0,
   "metadata": {
    "application/vnd.databricks.v1+cell": {
     "cellMetadata": {
      "byteLimit": 2048000,
      "rowLimit": 10000
     },
     "inputWidgets": {},
     "nuid": "54f8ea88-69e9-4f06-977d-081fb4920429",
     "showTitle": false,
     "tableResultSettingsMap": {},
     "title": ""
    }
   },
   "outputs": [
    {
     "output_type": "stream",
     "name": "stdout",
     "output_type": "stream",
     "text": [
      "+------+--------+-------------------+--------+------+-------+-------------+\n|UserID|    Page|          Timestamp|Duration|Device|Country|SessionMinute|\n+------+--------+-------------------+--------+------+-------+-------------+\n|     1|Checkout|2024-04-10 10:08:00|      60|Mobile|  India|            8|\n+------+--------+-------------------+--------+------+-------+-------------+\n\n"
     ]
    }
   ],
   "source": [
    "#4 Filter Mobile + Checkout\n",
    "from pyspark.sql.functions import col\n",
    "\n",
    "df_web_ts.filter((col(\"Device\") == \"Mobile\") & (col(\"Page\") == \"Checkout\")).show()\n"
   ]
  },
  {
   "cell_type": "code",
   "execution_count": 0,
   "metadata": {
    "application/vnd.databricks.v1+cell": {
     "cellMetadata": {
      "byteLimit": 2048000,
      "rowLimit": 10000
     },
     "inputWidgets": {},
     "nuid": "0610daa1-d537-47e7-8165-4761a905ce74",
     "showTitle": false,
     "tableResultSettingsMap": {},
     "title": ""
    }
   },
   "outputs": [
    {
     "output_type": "stream",
     "name": "stdout",
     "output_type": "stream",
     "text": [
      "+------+--------+-------------------+--------+-------+-------+-------------+\n|UserID|    Page|          Timestamp|Duration| Device|Country|SessionMinute|\n+------+--------+-------------------+--------+-------+-------+-------------+\n|     2|Products|2024-04-10 10:02:00|     120|Desktop|    USA|            2|\n|     5|Products|2024-04-10 10:20:00|      90|Desktop|  India|           20|\n+------+--------+-------------------+--------+-------+-------+-------------+\n\n"
     ]
    }
   ],
   "source": [
    "#5 Filter Duration > 60\n",
    "df_web_ts.filter(col(\"Duration\") > 60).show()\n"
   ]
  },
  {
   "cell_type": "code",
   "execution_count": 0,
   "metadata": {
    "application/vnd.databricks.v1+cell": {
     "cellMetadata": {
      "byteLimit": 2048000,
      "rowLimit": 10000
     },
     "inputWidgets": {},
     "nuid": "20b19548-cf9b-4661-836c-cc1a918b21e9",
     "showTitle": false,
     "tableResultSettingsMap": {},
     "title": ""
    }
   },
   "outputs": [
    {
     "output_type": "stream",
     "name": "stdout",
     "output_type": "stream",
     "text": [
      "+------+--------+-------------------+--------+-------+-------+-------------+\n|UserID|    Page|          Timestamp|Duration| Device|Country|SessionMinute|\n+------+--------+-------------------+--------+-------+-------+-------------+\n|     5|Products|2024-04-10 10:20:00|      90|Desktop|  India|           20|\n+------+--------+-------------------+--------+-------+-------+-------------+\n\n"
     ]
    }
   ],
   "source": [
    "#6 Filter India + Products\n",
    "df_web_ts.filter((col(\"Country\") == \"India\") & (col(\"Page\") == \"Products\")).show()\n"
   ]
  },
  {
   "cell_type": "code",
   "execution_count": 0,
   "metadata": {
    "application/vnd.databricks.v1+cell": {
     "cellMetadata": {
      "byteLimit": 2048000,
      "rowLimit": 10000
     },
     "inputWidgets": {},
     "nuid": "687d06d7-f0f3-425b-9de1-78220aea94ae",
     "showTitle": false,
     "tableResultSettingsMap": {},
     "title": ""
    }
   },
   "outputs": [
    {
     "output_type": "stream",
     "name": "stdout",
     "output_type": "stream",
     "text": [
      "+-------+------------------+\n| Device|       AvgDuration|\n+-------+------------------+\n| Mobile|36.666666666666664|\n| Tablet|              45.0|\n|Desktop| 78.33333333333333|\n+-------+------------------+\n\n"
     ]
    }
   ],
   "source": [
    "#7 Avg Duration per Device\n",
    "from pyspark.sql.functions import avg\n",
    "\n",
    "df_web_ts.groupBy(\"Device\").agg(avg(\"Duration\").alias(\"AvgDuration\")).show()\n"
   ]
  },
  {
   "cell_type": "code",
   "execution_count": 0,
   "metadata": {
    "application/vnd.databricks.v1+cell": {
     "cellMetadata": {
      "byteLimit": 2048000,
      "rowLimit": 10000
     },
     "inputWidgets": {},
     "nuid": "91e9a688-c7cc-4a6a-9144-f391c07ac214",
     "showTitle": false,
     "tableResultSettingsMap": {},
     "title": ""
    }
   },
   "outputs": [
    {
     "output_type": "stream",
     "name": "stdout",
     "output_type": "stream",
     "text": [
      "+-------+------------+\n|Country|SessionCount|\n+-------+------------+\n|  India|           3|\n|    USA|           2|\n|     UK|           1|\n| Canada|           1|\n+-------+------------+\n\n"
     ]
    }
   ],
   "source": [
    "#8 Count sessions per country\n",
    "df_web_ts.groupBy(\"Country\").count().withColumnRenamed(\"count\", \"SessionCount\").show()\n"
   ]
  },
  {
   "cell_type": "code",
   "execution_count": 0,
   "metadata": {
    "application/vnd.databricks.v1+cell": {
     "cellMetadata": {
      "byteLimit": 2048000,
      "rowLimit": 10000
     },
     "inputWidgets": {},
     "nuid": "71c8616a-c946-4052-8678-afe141ca5ef3",
     "showTitle": false,
     "tableResultSettingsMap": {},
     "title": ""
    }
   },
   "outputs": [
    {
     "output_type": "stream",
     "name": "stdout",
     "output_type": "stream",
     "text": [
      "+----+-----+\n|Page|count|\n+----+-----+\n|Home|    2|\n+----+-----+\n\n"
     ]
    }
   ],
   "source": [
    "#9 Most visited page\n",
    "df_web_ts.groupBy(\"Page\").count().orderBy(col(\"count\").desc()).limit(1).show()\n"
   ]
  },
  {
   "cell_type": "code",
   "execution_count": 0,
   "metadata": {
    "application/vnd.databricks.v1+cell": {
     "cellMetadata": {
      "byteLimit": 2048000,
      "rowLimit": 10000
     },
     "inputWidgets": {},
     "nuid": "8990f57c-eb4b-4b85-a17a-8e3688d6b4de",
     "showTitle": false,
     "tableResultSettingsMap": {},
     "title": ""
    }
   },
   "outputs": [
    {
     "output_type": "stream",
     "name": "stdout",
     "output_type": "stream",
     "text": [
      "+------+--------+-------------------+--------+\n|UserID|    Page|          Timestamp|PageRank|\n+------+--------+-------------------+--------+\n|     1|    Home|2024-04-10 10:00:00|       1|\n|     1|Checkout|2024-04-10 10:08:00|       2|\n|     2|Products|2024-04-10 10:02:00|       1|\n|     2| Contact|2024-04-10 10:15:00|       2|\n|     3|    Cart|2024-04-10 10:05:00|       1|\n|     4|    Home|2024-04-10 10:10:00|       1|\n|     5|Products|2024-04-10 10:20:00|       1|\n+------+--------+-------------------+--------+\n\n"
     ]
    }
   ],
   "source": [
    "#10 Rank pages per user\n",
    "from pyspark.sql.window import Window\n",
    "from pyspark.sql.functions import rank\n",
    "\n",
    "window_spec = Window.partitionBy(\"UserID\").orderBy(\"Timestamp\")\n",
    "\n",
    "df_ranked = df_web_ts.withColumn(\"PageRank\", rank().over(window_spec))\n",
    "df_ranked.select(\"UserID\", \"Page\", \"Timestamp\", \"PageRank\").show()\n"
   ]
  },
  {
   "cell_type": "code",
   "execution_count": 0,
   "metadata": {
    "application/vnd.databricks.v1+cell": {
     "cellMetadata": {
      "byteLimit": 2048000,
      "rowLimit": 10000
     },
     "inputWidgets": {},
     "nuid": "2565cfe3-147f-4d7f-88ce-0999c5726072",
     "showTitle": false,
     "tableResultSettingsMap": {},
     "title": ""
    }
   },
   "outputs": [
    {
     "output_type": "stream",
     "name": "stdout",
     "output_type": "stream",
     "text": [
      "+------+-------------+\n|UserID|TotalDuration|\n+------+-------------+\n|     1|           95|\n|     3|           45|\n|     2|          145|\n|     4|           15|\n|     5|           90|\n+------+-------------+\n\n"
     ]
    }
   ],
   "source": [
    "#11 Total duration per user\n",
    "from pyspark.sql.functions import sum as _sum\n",
    "\n",
    "df_web_ts.groupBy(\"UserID\").agg(_sum(\"Duration\").alias(\"TotalDuration\")).show()\n"
   ]
  },
  {
   "cell_type": "code",
   "execution_count": 0,
   "metadata": {
    "application/vnd.databricks.v1+cell": {
     "cellMetadata": {
      "byteLimit": 2048000,
      "rowLimit": 10000
     },
     "inputWidgets": {},
     "nuid": "5c0814dd-9e45-44f0-81ef-51525ece3812",
     "showTitle": false,
     "tableResultSettingsMap": {},
     "title": ""
    }
   },
   "outputs": [],
   "source": [
    "#12 Register as temporary view\n",
    "df_web_ts.createOrReplaceTempView(\"traffic_view\")\n"
   ]
  },
  {
   "cell_type": "code",
   "execution_count": 0,
   "metadata": {
    "application/vnd.databricks.v1+cell": {
     "cellMetadata": {
      "byteLimit": 2048000,
      "rowLimit": 10000
     },
     "inputWidgets": {},
     "nuid": "d8fe5f7a-f72e-4f4f-b1f9-9c981282e47a",
     "showTitle": false,
     "tableResultSettingsMap": {},
     "title": ""
    }
   },
   "outputs": [
    {
     "output_type": "stream",
     "name": "stdout",
     "output_type": "stream",
     "text": [
      "+------+--------+--------+\n|UserID|    Page|Duration|\n+------+--------+--------+\n|     2|Products|     120|\n|     5|Products|      90|\n+------+--------+--------+\n\n"
     ]
    }
   ],
   "source": [
    "#13 SQL - Top 2 longest sessions\n",
    "spark.sql(\"\"\"\n",
    "    SELECT UserID, Page, Duration\n",
    "    FROM traffic_view\n",
    "    ORDER BY Duration DESC\n",
    "    LIMIT 2\n",
    "\"\"\").show()\n"
   ]
  },
  {
   "cell_type": "code",
   "execution_count": 0,
   "metadata": {
    "application/vnd.databricks.v1+cell": {
     "cellMetadata": {
      "byteLimit": 2048000,
      "rowLimit": 10000
     },
     "inputWidgets": {},
     "nuid": "eab963a2-d621-4b15-b1b5-2b561faa3586",
     "showTitle": false,
     "tableResultSettingsMap": {},
     "title": ""
    }
   },
   "outputs": [
    {
     "output_type": "stream",
     "name": "stdout",
     "output_type": "stream",
     "text": [
      "+--------+-----------+\n|    Page|UniqueUsers|\n+--------+-----------+\n|    Cart|          1|\n|    Home|          2|\n|Checkout|          1|\n|Products|          2|\n| Contact|          1|\n+--------+-----------+\n\n"
     ]
    }
   ],
   "source": [
    "#14 SQL - Unique users per page\n",
    "spark.sql(\"\"\"\n",
    "    SELECT Page, COUNT(DISTINCT UserID) as UniqueUsers\n",
    "    FROM traffic_view\n",
    "    GROUP BY Page\n",
    "\"\"\").show()\n"
   ]
  },
  {
   "cell_type": "code",
   "execution_count": 0,
   "metadata": {
    "application/vnd.databricks.v1+cell": {
     "cellMetadata": {
      "byteLimit": 2048000,
      "rowLimit": 10000
     },
     "inputWidgets": {},
     "nuid": "b86217fa-e59c-4a1f-8592-812569d4aa03",
     "showTitle": false,
     "tableResultSettingsMap": {},
     "title": ""
    }
   },
   "outputs": [],
   "source": [
    "#15 Save final DataFrame to CSV\n",
    "df_web_ts.write.mode(\"overwrite\").option(\"header\", \"true\").csv(\"dbfs:/FileStore/web_traffic/csv_output\")"
   ]
  },
  {
   "cell_type": "code",
   "execution_count": 0,
   "metadata": {
    "application/vnd.databricks.v1+cell": {
     "cellMetadata": {
      "byteLimit": 2048000,
      "rowLimit": 10000
     },
     "inputWidgets": {},
     "nuid": "083aa930-d1f9-4269-8dd6-a5044bb218c2",
     "showTitle": false,
     "tableResultSettingsMap": {},
     "title": ""
    }
   },
   "outputs": [
    {
     "output_type": "stream",
     "name": "stdout",
     "output_type": "stream",
     "text": [
      "+------+--------+------------------------+--------+-------+-------+-------------+\n|UserID|Page    |Timestamp               |Duration|Device |Country|SessionMinute|\n+------+--------+------------------------+--------+-------+-------+-------------+\n|2     |Contact |2024-04-10T10:15:00.000Z|25      |Desktop|USA    |15           |\n|5     |Products|2024-04-10T10:20:00.000Z|90      |Desktop|India  |20           |\n|1     |Checkout|2024-04-10T10:08:00.000Z|60      |Mobile |India  |8            |\n|4     |Home    |2024-04-10T10:10:00.000Z|15      |Mobile |Canada |10           |\n|2     |Products|2024-04-10T10:02:00.000Z|120     |Desktop|USA    |2            |\n|3     |Cart    |2024-04-10T10:05:00.000Z|45      |Tablet |UK     |5            |\n|1     |Home    |2024-04-10T10:00:00.000Z|35      |Mobile |India  |0            |\n+------+--------+------------------------+--------+-------+-------+-------------+\n\n"
     ]
    }
   ],
   "source": [
    "# Read back the CSV and display it\n",
    "df_csv_read = spark.read.option(\"header\", \"true\").csv(\"/tmp/web_traffic_csv\")\n",
    "df_csv_read.show(truncate=False)\n"
   ]
  },
  {
   "cell_type": "code",
   "execution_count": 0,
   "metadata": {
    "application/vnd.databricks.v1+cell": {
     "cellMetadata": {
      "byteLimit": 2048000,
      "rowLimit": 10000
     },
     "inputWidgets": {},
     "nuid": "3c5df0e3-f2e7-43c0-b904-5fa0d1948e25",
     "showTitle": false,
     "tableResultSettingsMap": {},
     "title": ""
    }
   },
   "outputs": [
    {
     "output_type": "execute_result",
     "data": {
      "text/plain": [
       "'/dbfs/FileStore/web_traffic/web_traffic_csv.zip'"
      ]
     },
     "execution_count": 27,
     "metadata": {},
     "output_type": "execute_result"
    }
   ],
   "source": [
    "import shutil\n",
    "import os\n",
    "import uuid\n",
    "\n",
    "# 1. Set up local temp folder\n",
    "local_temp_csv = f\"/tmp/web_traffic_csv_{uuid.uuid4()}\"\n",
    "os.makedirs(local_temp_csv, exist_ok=True)\n",
    "\n",
    "# 2. Copy part files from DBFS to local temp\n",
    "dbfs_csv_path = \"/dbfs/FileStore/web_traffic/csv_output\"\n",
    "for file in os.listdir(dbfs_csv_path):\n",
    "    shutil.copy(os.path.join(dbfs_csv_path, file), local_temp_csv)\n",
    "\n",
    "# 3. Zip the folder\n",
    "local_zip_path = \"/tmp/web_traffic_csv.zip\"\n",
    "shutil.make_archive(local_zip_path.replace(\".zip\", \"\"), 'zip', local_temp_csv)\n",
    "\n",
    "# 4. Move zip to DBFS\n",
    "dbfs_zip_path = \"/dbfs/FileStore/web_traffic/web_traffic_csv.zip\"\n",
    "shutil.copy(local_zip_path, dbfs_zip_path)\n"
   ]
  },
  {
   "cell_type": "code",
   "execution_count": 0,
   "metadata": {
    "application/vnd.databricks.v1+cell": {
     "cellMetadata": {
      "byteLimit": 2048000,
      "rowLimit": 10000
     },
     "inputWidgets": {},
     "nuid": "f66a4f71-f720-4faa-8927-7bc3dd2810b1",
     "showTitle": false,
     "tableResultSettingsMap": {},
     "title": ""
    }
   },
   "outputs": [],
   "source": [
    "#16 Save partitioned by Country as Parquet\n",
    "df_web_ts.write.mode(\"overwrite\").partitionBy(\"Country\").parquet(\"dbfs:/FileStore/web_traffic/parquet_by_country\")"
   ]
  },
  {
   "cell_type": "code",
   "execution_count": 0,
   "metadata": {
    "application/vnd.databricks.v1+cell": {
     "cellMetadata": {
      "byteLimit": 2048000,
      "rowLimit": 10000
     },
     "inputWidgets": {},
     "nuid": "c112f1c4-1c26-414b-a406-911d5164d543",
     "showTitle": false,
     "tableResultSettingsMap": {},
     "title": ""
    }
   },
   "outputs": [
    {
     "output_type": "stream",
     "name": "stdout",
     "output_type": "stream",
     "text": [
      "+------+--------+-------------------+--------+-------+-------------+-------+\n|UserID|Page    |Timestamp          |Duration|Device |SessionMinute|Country|\n+------+--------+-------------------+--------+-------+-------------+-------+\n|5     |Products|2024-04-10 10:20:00|90      |Desktop|20           |India  |\n|2     |Products|2024-04-10 10:02:00|120     |Desktop|2            |USA    |\n|1     |Checkout|2024-04-10 10:08:00|60      |Mobile |8            |India  |\n|2     |Contact |2024-04-10 10:15:00|25      |Desktop|15           |USA    |\n|4     |Home    |2024-04-10 10:10:00|15      |Mobile |10           |Canada |\n|1     |Home    |2024-04-10 10:00:00|35      |Mobile |0            |India  |\n|3     |Cart    |2024-04-10 10:05:00|45      |Tablet |5            |UK     |\n+------+--------+-------------------+--------+-------+-------------+-------+\n\n"
     ]
    }
   ],
   "source": [
    "# Read back the Parquet and display it\n",
    "df_parquet_read = spark.read.parquet(\"/tmp/web_traffic_parquet_by_country\")\n",
    "df_parquet_read.show(truncate=False)\n"
   ]
  },
  {
   "cell_type": "code",
   "execution_count": 0,
   "metadata": {
    "application/vnd.databricks.v1+cell": {
     "cellMetadata": {
      "byteLimit": 2048000,
      "rowLimit": 10000
     },
     "inputWidgets": {},
     "nuid": "d622cf48-6cc3-4264-ac1a-f3f72b990960",
     "showTitle": false,
     "tableResultSettingsMap": {},
     "title": ""
    }
   },
   "outputs": [
    {
     "output_type": "execute_result",
     "data": {
      "text/plain": [
       "'/dbfs/FileStore/web_traffic/web_traffic_parquet_by_country.zip'"
      ]
     },
     "execution_count": 26,
     "metadata": {},
     "output_type": "execute_result"
    }
   ],
   "source": [
    "import shutil\n",
    "import os\n",
    "import uuid\n",
    "\n",
    "# 1. Define local temp folder\n",
    "local_temp_parquet = f\"/tmp/web_traffic_parquet_{uuid.uuid4()}\"\n",
    "dbfs_parquet_source = \"/dbfs/FileStore/web_traffic/parquet_by_country\"\n",
    "\n",
    "# 2. Recursively copy full folder (including subdirectories)\n",
    "shutil.copytree(dbfs_parquet_source, local_temp_parquet)\n",
    "\n",
    "# 3. Zip the copied folder\n",
    "local_zip_path = \"/tmp/web_traffic_parquet_by_country.zip\"\n",
    "shutil.make_archive(local_zip_path.replace(\".zip\", \"\"), 'zip', local_temp_parquet)\n",
    "\n",
    "# 4. Move zip to DBFS for download\n",
    "dbfs_zip_path = \"/dbfs/FileStore/web_traffic/web_traffic_parquet_by_country.zip\"\n",
    "shutil.copy(local_zip_path, dbfs_zip_path)\n"
   ]
  }
 ],
 "metadata": {
  "application/vnd.databricks.v1+notebook": {
   "computePreferences": null,
   "dashboards": [],
   "environmentMetadata": {
    "base_environment": "",
    "environment_version": "2"
   },
   "inputWidgetPreferences": null,
   "language": "python",
   "notebookMetadata": {
    "pythonIndentUnit": 4
   },
   "notebookName": "Haley Pearl Caxmi T-Azure PySpark Exercises-5",
   "widgets": {}
  },
  "language_info": {
   "name": "python"
  }
 },
 "nbformat": 4,
 "nbformat_minor": 0
}