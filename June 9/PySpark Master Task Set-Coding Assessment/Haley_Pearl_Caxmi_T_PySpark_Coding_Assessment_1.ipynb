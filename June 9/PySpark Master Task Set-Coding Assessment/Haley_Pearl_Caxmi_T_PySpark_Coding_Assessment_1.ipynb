{
  "nbformat": 4,
  "nbformat_minor": 0,
  "metadata": {
    "colab": {
      "provenance": []
    },
    "kernelspec": {
      "name": "python3",
      "display_name": "Python 3"
    },
    "language_info": {
      "name": "python"
    }
  },
  "cells": [
    {
      "cell_type": "code",
      "execution_count": null,
      "metadata": {
        "colab": {
          "base_uri": "https://localhost:8080/",
          "height": 219
        },
        "id": "a0Bbv-Al_KI0",
        "outputId": "44d1732e-1eee-44ab-f669-a75a1793945a"
      },
      "outputs": [
        {
          "output_type": "execute_result",
          "data": {
            "text/plain": [
              "<pyspark.sql.session.SparkSession at 0x7c2c380aac10>"
            ],
            "text/html": [
              "\n",
              "            <div>\n",
              "                <p><b>SparkSession - in-memory</b></p>\n",
              "                \n",
              "        <div>\n",
              "            <p><b>SparkContext</b></p>\n",
              "\n",
              "            <p><a href=\"http://f7812d610ac2:4040\">Spark UI</a></p>\n",
              "\n",
              "            <dl>\n",
              "              <dt>Version</dt>\n",
              "                <dd><code>v3.5.1</code></dd>\n",
              "              <dt>Master</dt>\n",
              "                <dd><code>local[*]</code></dd>\n",
              "              <dt>AppName</dt>\n",
              "                <dd><code>PySparkMasterTaskSet</code></dd>\n",
              "            </dl>\n",
              "        </div>\n",
              "        \n",
              "            </div>\n",
              "        "
            ]
          },
          "metadata": {},
          "execution_count": 2
        }
      ],
      "source": [
        "from pyspark.sql import SparkSession\n",
        "\n",
        "spark = SparkSession.builder \\\n",
        "    .appName(\"PySparkMasterTaskSet\") \\\n",
        "    .getOrCreate()\n",
        "spark"
      ]
    },
    {
      "cell_type": "code",
      "source": [
        "from google.colab import drive\n",
        "drive.mount('/content/drive')\n"
      ],
      "metadata": {
        "colab": {
          "base_uri": "https://localhost:8080/"
        },
        "id": "4CRutNH2_ea1",
        "outputId": "3d10d690-08b5-4074-efe3-6475f8d35bc6"
      },
      "execution_count": null,
      "outputs": [
        {
          "output_type": "stream",
          "name": "stdout",
          "text": [
            "Mounted at /content/drive\n"
          ]
        }
      ]
    },
    {
      "cell_type": "code",
      "source": [
        "#1. Data Ingestion & Exploration\n",
        "# Load CSVs with inferred schema\n",
        "customers = spark.read.csv('/content/drive/MyDrive/customers.csv', header=True, inferSchema=True)\n",
        "orders = spark.read.csv('/content/drive/MyDrive/orders.csv', header=True, inferSchema=True)\n"
      ],
      "metadata": {
        "id": "kKwx1fhC_qxP"
      },
      "execution_count": 44,
      "outputs": []
    },
    {
      "cell_type": "code",
      "source": [
        "# List all columns and data types.\n",
        "customers.printSchema()\n",
        "orders.printSchema()\n"
      ],
      "metadata": {
        "colab": {
          "base_uri": "https://localhost:8080/"
        },
        "id": "txcXvuXfAAt8",
        "outputId": "70707165-ff68-4eb9-ecc2-94976233f9d7"
      },
      "execution_count": null,
      "outputs": [
        {
          "output_type": "stream",
          "name": "stdout",
          "text": [
            "root\n",
            " |-- CustomerID: integer (nullable = true)\n",
            " |-- Name: string (nullable = true)\n",
            " |-- Email: string (nullable = true)\n",
            " |-- City: string (nullable = true)\n",
            " |-- SignupDate: date (nullable = true)\n",
            "\n",
            "root\n",
            " |-- OrderID: integer (nullable = true)\n",
            " |-- CustomerID: integer (nullable = true)\n",
            " |-- Product: string (nullable = true)\n",
            " |-- Category: string (nullable = true)\n",
            " |-- Quantity: integer (nullable = true)\n",
            " |-- Price: double (nullable = true)\n",
            " |-- OrderDate: date (nullable = true)\n",
            "\n"
          ]
        }
      ]
    },
    {
      "cell_type": "code",
      "source": [
        "# Count total customers and orders\n",
        "print(\"Total Customers:\", customers.count())\n",
        "print(\"Total Orders:\", orders.count())\n"
      ],
      "metadata": {
        "colab": {
          "base_uri": "https://localhost:8080/"
        },
        "id": "Tsg1fmq6AM4l",
        "outputId": "ea0e66fc-5cce-4bed-9b8d-274a42817e99"
      },
      "execution_count": null,
      "outputs": [
        {
          "output_type": "stream",
          "name": "stdout",
          "text": [
            "Total Customers: 5\n",
            "Total Orders: 7\n"
          ]
        }
      ]
    },
    {
      "cell_type": "code",
      "source": [
        "# Show distinct cities\n",
        "customers.select(\"City\").distinct().show()"
      ],
      "metadata": {
        "colab": {
          "base_uri": "https://localhost:8080/"
        },
        "id": "_FT9zEX1ASrV",
        "outputId": "db4e4c10-f1b1-4f3d-9c40-53b77547e23e"
      },
      "execution_count": null,
      "outputs": [
        {
          "output_type": "stream",
          "name": "stdout",
          "text": [
            "+---------+\n",
            "|     City|\n",
            "+---------+\n",
            "|Bangalore|\n",
            "|  Chennai|\n",
            "|   Mumbai|\n",
            "|    Delhi|\n",
            "|Hyderabad|\n",
            "+---------+\n",
            "\n"
          ]
        }
      ]
    },
    {
      "cell_type": "code",
      "source": [
        "#2. DataFrame Transformations\n",
        "#Add a column TotalAmount = Price * Quantity\n",
        "from pyspark.sql.functions import col, year\n",
        "orders = orders.withColumn(\"TotalAmount\", col(\"Price\") * col(\"Quantity\"))\n",
        "orders.show()"
      ],
      "metadata": {
        "colab": {
          "base_uri": "https://localhost:8080/"
        },
        "id": "LR_QEg9XAT5f",
        "outputId": "e978652e-bb8c-4653-a34a-d8332a48e2c1"
      },
      "execution_count": null,
      "outputs": [
        {
          "output_type": "stream",
          "name": "stdout",
          "text": [
            "+-------+----------+---------+-----------+--------+-------+----------+-----------+\n",
            "|OrderID|CustomerID|  Product|   Category|Quantity|  Price| OrderDate|TotalAmount|\n",
            "+-------+----------+---------+-----------+--------+-------+----------+-----------+\n",
            "|      1|       101|   Laptop|Electronics|       2|50000.0|2024-01-10|   100000.0|\n",
            "|      2|       101|    Mouse|Electronics|       1| 1200.0|2024-01-15|     1200.0|\n",
            "|      3|       102|   Tablet|Electronics|       1|20000.0|2024-02-01|    20000.0|\n",
            "|      4|       103|Bookshelf|  Furniture|       1| 3500.0|2024-02-10|     3500.0|\n",
            "|      5|       104|    Mixer| Appliances|       1| 5000.0|2024-02-15|     5000.0|\n",
            "|      6|       105| Notebook| Stationery|       5|  500.0|2024-03-01|     2500.0|\n",
            "|      7|       102|    Phone|Electronics|       1|30000.0|2024-03-02|    30000.0|\n",
            "+-------+----------+---------+-----------+--------+-------+----------+-----------+\n",
            "\n"
          ]
        }
      ]
    },
    {
      "cell_type": "code",
      "source": [
        "#Create a new column OrderYear from OrderDate\n",
        "orders = orders.withColumn(\"OrderYear\", year(\"OrderDate\"))\n",
        "orders.show()"
      ],
      "metadata": {
        "colab": {
          "base_uri": "https://localhost:8080/"
        },
        "id": "GP57oIaFAqP-",
        "outputId": "d2004552-98d7-4be2-961b-3a20b3c85a74"
      },
      "execution_count": null,
      "outputs": [
        {
          "output_type": "stream",
          "name": "stdout",
          "text": [
            "+-------+----------+---------+-----------+--------+-------+----------+-----------+---------+\n",
            "|OrderID|CustomerID|  Product|   Category|Quantity|  Price| OrderDate|TotalAmount|OrderYear|\n",
            "+-------+----------+---------+-----------+--------+-------+----------+-----------+---------+\n",
            "|      1|       101|   Laptop|Electronics|       2|50000.0|2024-01-10|   100000.0|     2024|\n",
            "|      2|       101|    Mouse|Electronics|       1| 1200.0|2024-01-15|     1200.0|     2024|\n",
            "|      3|       102|   Tablet|Electronics|       1|20000.0|2024-02-01|    20000.0|     2024|\n",
            "|      4|       103|Bookshelf|  Furniture|       1| 3500.0|2024-02-10|     3500.0|     2024|\n",
            "|      5|       104|    Mixer| Appliances|       1| 5000.0|2024-02-15|     5000.0|     2024|\n",
            "|      6|       105| Notebook| Stationery|       5|  500.0|2024-03-01|     2500.0|     2024|\n",
            "|      7|       102|    Phone|Electronics|       1|30000.0|2024-03-02|    30000.0|     2024|\n",
            "+-------+----------+---------+-----------+--------+-------+----------+-----------+---------+\n",
            "\n"
          ]
        }
      ]
    },
    {
      "cell_type": "code",
      "source": [
        "# Filter orders with TotalAmount > 10000\n",
        "orders.filter(col(\"TotalAmount\") > 10000).show()"
      ],
      "metadata": {
        "colab": {
          "base_uri": "https://localhost:8080/"
        },
        "id": "_EA-2yjnA0Qr",
        "outputId": "6e77012e-6f28-4770-d430-aa05030b06a0"
      },
      "execution_count": null,
      "outputs": [
        {
          "output_type": "stream",
          "name": "stdout",
          "text": [
            "+-------+----------+-------+-----------+--------+-------+----------+-----------+---------+\n",
            "|OrderID|CustomerID|Product|   Category|Quantity|  Price| OrderDate|TotalAmount|OrderYear|\n",
            "+-------+----------+-------+-----------+--------+-------+----------+-----------+---------+\n",
            "|      1|       101| Laptop|Electronics|       2|50000.0|2024-01-10|   100000.0|     2024|\n",
            "|      3|       102| Tablet|Electronics|       1|20000.0|2024-02-01|    20000.0|     2024|\n",
            "|      7|       102|  Phone|Electronics|       1|30000.0|2024-03-02|    30000.0|     2024|\n",
            "+-------+----------+-------+-----------+--------+-------+----------+-----------+---------+\n",
            "\n"
          ]
        }
      ]
    },
    {
      "cell_type": "code",
      "source": [
        "# Drop Email column\n",
        "customers = customers.drop(\"Email\")\n",
        "customers.show()"
      ],
      "metadata": {
        "colab": {
          "base_uri": "https://localhost:8080/"
        },
        "id": "P9oPy7GHA4RE",
        "outputId": "90e7dfd9-fdcc-4ec1-c810-9f5d508b2316"
      },
      "execution_count": null,
      "outputs": [
        {
          "output_type": "stream",
          "name": "stdout",
          "text": [
            "+----------+-----+---------+----------+\n",
            "|CustomerID| Name|     City|SignupDate|\n",
            "+----------+-----+---------+----------+\n",
            "|       101|  Ali|   Mumbai|2022-05-10|\n",
            "|       102| Neha|    Delhi|2023-01-15|\n",
            "|       103| Ravi|Bangalore|2021-11-01|\n",
            "|       104|Sneha|Hyderabad|2020-07-22|\n",
            "|       105| Amit|  Chennai|2023-03-10|\n",
            "+----------+-----+---------+----------+\n",
            "\n"
          ]
        }
      ]
    },
    {
      "cell_type": "code",
      "source": [
        "#3. Handling Nulls & Conditionals\n",
        "#Simulate a null in City and fill it with “Unknown”\n",
        "from pyspark.sql.functions import when, lit\n",
        "customers_with_null = customers.withColumn(\"City\", when(col(\"CustomerID\") == 103, None).otherwise(col(\"City\")))\n",
        "customers_filled = customers_with_null.fillna(\"Unknown\", subset=[\"City\"])"
      ],
      "metadata": {
        "id": "QkN0xZ6nBM7U"
      },
      "execution_count": null,
      "outputs": []
    },
    {
      "cell_type": "code",
      "source": [
        "#Label customers as “Loyal” if SignupDate is before 2022, else “New”\n",
        "from pyspark.sql.functions import to_date\n",
        "customers_filled = customers_filled.withColumn(\"SignupDate\", to_date(\"SignupDate\"))\n",
        "customers_labeled = customers_filled.withColumn(\"Loyalty\", when(col(\"SignupDate\") < \"2022-01-01\", \"Loyal\").otherwise(\"New\"))\n",
        "customers_labeled.show()"
      ],
      "metadata": {
        "colab": {
          "base_uri": "https://localhost:8080/"
        },
        "id": "jWsvyrNXBgIa",
        "outputId": "e54f4eda-7642-478c-f33a-45b2ff96b60a"
      },
      "execution_count": null,
      "outputs": [
        {
          "output_type": "stream",
          "name": "stdout",
          "text": [
            "+----------+-----+---------+----------+-------+\n",
            "|CustomerID| Name|     City|SignupDate|Loyalty|\n",
            "+----------+-----+---------+----------+-------+\n",
            "|       101|  Ali|   Mumbai|2022-05-10|    New|\n",
            "|       102| Neha|    Delhi|2023-01-15|    New|\n",
            "|       103| Ravi|  Unknown|2021-11-01|  Loyal|\n",
            "|       104|Sneha|Hyderabad|2020-07-22|  Loyal|\n",
            "|       105| Amit|  Chennai|2023-03-10|    New|\n",
            "+----------+-----+---------+----------+-------+\n",
            "\n"
          ]
        }
      ]
    },
    {
      "cell_type": "code",
      "source": [
        "#Create OrderType column: \"Low\" if <5,000, \"High\" if ≥5,000\n",
        "orders = orders.withColumn(\"OrderType\", when(col(\"TotalAmount\") < 5000, \"Low\").otherwise(\"High\"))\n",
        "orders.select(\"OrderID\", \"Product\", \"TotalAmount\", \"OrderType\").show()\n"
      ],
      "metadata": {
        "colab": {
          "base_uri": "https://localhost:8080/"
        },
        "id": "oAaeQgP1B-Pq",
        "outputId": "f0abd99d-e224-4742-be5e-793d1d4a1f7f"
      },
      "execution_count": null,
      "outputs": [
        {
          "output_type": "stream",
          "name": "stdout",
          "text": [
            "+-------+---------+-----------+---------+\n",
            "|OrderID|  Product|TotalAmount|OrderType|\n",
            "+-------+---------+-----------+---------+\n",
            "|      1|   Laptop|   100000.0|     High|\n",
            "|      2|    Mouse|     1200.0|      Low|\n",
            "|      3|   Tablet|    20000.0|     High|\n",
            "|      4|Bookshelf|     3500.0|      Low|\n",
            "|      5|    Mixer|     5000.0|     High|\n",
            "|      6| Notebook|     2500.0|      Low|\n",
            "|      7|    Phone|    30000.0|     High|\n",
            "+-------+---------+-----------+---------+\n",
            "\n"
          ]
        }
      ]
    },
    {
      "cell_type": "code",
      "source": [
        "#4. Joins & Aggregations\n",
        "#Join customers and orders on CustomerID\n",
        "joined_df = customers_labeled.join(orders, on=\"CustomerID\", how=\"inner\")"
      ],
      "metadata": {
        "id": "DhBhtwSKCIdw"
      },
      "execution_count": null,
      "outputs": []
    },
    {
      "cell_type": "code",
      "source": [
        "# Total orders and revenue per city\n",
        "from pyspark.sql.functions import sum, count\n",
        "joined_df.groupBy(\"City\").agg(\n",
        "    count(\"OrderID\").alias(\"TotalOrders\"),\n",
        "    sum(\"TotalAmount\").alias(\"TotalRevenue\")\n",
        ").show()"
      ],
      "metadata": {
        "colab": {
          "base_uri": "https://localhost:8080/"
        },
        "id": "K1aVq3TBCXaG",
        "outputId": "19861c9f-b3cf-4fd1-8c38-06e7ac733932"
      },
      "execution_count": null,
      "outputs": [
        {
          "output_type": "stream",
          "name": "stdout",
          "text": [
            "+---------+-----------+------------+\n",
            "|     City|TotalOrders|TotalRevenue|\n",
            "+---------+-----------+------------+\n",
            "|  Chennai|          1|      2500.0|\n",
            "|   Mumbai|          2|    101200.0|\n",
            "|  Unknown|          1|      3500.0|\n",
            "|    Delhi|          2|     50000.0|\n",
            "|Hyderabad|          1|      5000.0|\n",
            "+---------+-----------+------------+\n",
            "\n"
          ]
        }
      ]
    },
    {
      "cell_type": "code",
      "source": [
        "# Show top 3 customers by total spend\n",
        "joined_df.groupBy(\"Name\").agg(\n",
        "    sum(\"TotalAmount\").alias(\"TotalSpend\")\n",
        ").orderBy(col(\"TotalSpend\").desc()).show(3)\n"
      ],
      "metadata": {
        "colab": {
          "base_uri": "https://localhost:8080/"
        },
        "id": "psF2HYrvCbkR",
        "outputId": "d3510742-3000-46e1-a5a2-8cefc087fdf4"
      },
      "execution_count": null,
      "outputs": [
        {
          "output_type": "stream",
          "name": "stdout",
          "text": [
            "+-----+----------+\n",
            "| Name|TotalSpend|\n",
            "+-----+----------+\n",
            "|  Ali|  101200.0|\n",
            "| Neha|   50000.0|\n",
            "|Sneha|    5000.0|\n",
            "+-----+----------+\n",
            "only showing top 3 rows\n",
            "\n"
          ]
        }
      ]
    },
    {
      "cell_type": "code",
      "source": [
        "#Count how many products each category has sold\n",
        "orders.groupBy(\"Category\").agg(\n",
        "    count(\"Product\").alias(\"ProductsSold\")\n",
        ").show()"
      ],
      "metadata": {
        "colab": {
          "base_uri": "https://localhost:8080/"
        },
        "id": "5g2_t7FqCfIN",
        "outputId": "ea0cde14-ed50-4859-927e-59f280aad113"
      },
      "execution_count": null,
      "outputs": [
        {
          "output_type": "stream",
          "name": "stdout",
          "text": [
            "+-----------+------------+\n",
            "|   Category|ProductsSold|\n",
            "+-----------+------------+\n",
            "| Stationery|           1|\n",
            "|Electronics|           4|\n",
            "|  Furniture|           1|\n",
            "| Appliances|           1|\n",
            "+-----------+------------+\n",
            "\n"
          ]
        }
      ]
    },
    {
      "cell_type": "code",
      "source": [
        "#5. Spark SQL Tasks\n",
        "#Create database sales and switch to it\n",
        "spark.sql(\"CREATE DATABASE IF NOT EXISTS sales\")\n",
        "spark.catalog.setCurrentDatabase(\"sales\")"
      ],
      "metadata": {
        "id": "aPXIEOuhCtnN"
      },
      "execution_count": null,
      "outputs": []
    },
    {
      "cell_type": "code",
      "source": [
        "#Save both datasets as tables in the sales database.\n",
        "customers_labeled.write.mode(\"overwrite\").saveAsTable(\"customers\")\n",
        "orders.write.mode(\"overwrite\").saveAsTable(\"orders\")"
      ],
      "metadata": {
        "id": "FwUNLSOCDGKs"
      },
      "execution_count": null,
      "outputs": []
    },
    {
      "cell_type": "code",
      "source": [
        "# SQL: Orders from Delhi\n",
        "spark.sql(\"\"\"\n",
        "SELECT o.* FROM orders o\n",
        "JOIN customers c ON o.CustomerID = c.CustomerID\n",
        "WHERE c.City = 'Delhi'\n",
        "\"\"\").show()"
      ],
      "metadata": {
        "colab": {
          "base_uri": "https://localhost:8080/"
        },
        "id": "-qz6Pau5DIzU",
        "outputId": "2b1340db-5d79-414e-e09a-0187aa80b7f4"
      },
      "execution_count": null,
      "outputs": [
        {
          "output_type": "stream",
          "name": "stdout",
          "text": [
            "+-------+----------+-------+-----------+--------+-------+----------+-----------+---------+---------+\n",
            "|OrderID|CustomerID|Product|   Category|Quantity|  Price| OrderDate|TotalAmount|OrderYear|OrderType|\n",
            "+-------+----------+-------+-----------+--------+-------+----------+-----------+---------+---------+\n",
            "|      3|       102| Tablet|Electronics|       1|20000.0|2024-02-01|    20000.0|     2024|     High|\n",
            "|      7|       102|  Phone|Electronics|       1|30000.0|2024-03-02|    30000.0|     2024|     High|\n",
            "+-------+----------+-------+-----------+--------+-------+----------+-----------+---------+---------+\n",
            "\n"
          ]
        }
      ]
    },
    {
      "cell_type": "code",
      "source": [
        "# SQL: Average order value per category\n",
        "spark.sql(\"\"\"\n",
        "SELECT Category, AVG(TotalAmount) AS AvgValue\n",
        "FROM orders\n",
        "GROUP BY Category\n",
        "\"\"\").show()"
      ],
      "metadata": {
        "colab": {
          "base_uri": "https://localhost:8080/"
        },
        "id": "-4y2gZv9DScm",
        "outputId": "a32b04a2-f831-4a73-e29a-8acc200e4851"
      },
      "execution_count": null,
      "outputs": [
        {
          "output_type": "stream",
          "name": "stdout",
          "text": [
            "+-----------+--------+\n",
            "|   Category|AvgValue|\n",
            "+-----------+--------+\n",
            "| Stationery|  2500.0|\n",
            "|Electronics| 37800.0|\n",
            "|  Furniture|  3500.0|\n",
            "| Appliances|  5000.0|\n",
            "+-----------+--------+\n",
            "\n"
          ]
        }
      ]
    },
    {
      "cell_type": "code",
      "source": [
        "# Create monthly_orders view\n",
        "spark.sql(\"\"\"\n",
        "CREATE OR REPLACE TEMP VIEW monthly_orders AS\n",
        "SELECT MONTH(OrderDate) AS Month, SUM(TotalAmount) AS MonthlyTotal\n",
        "FROM orders\n",
        "GROUP BY MONTH(OrderDate)\n",
        "\"\"\")\n",
        "spark.sql(\"SELECT * FROM monthly_orders\").show()"
      ],
      "metadata": {
        "colab": {
          "base_uri": "https://localhost:8080/"
        },
        "id": "VP13V-krDU81",
        "outputId": "cc510736-95d1-4b6b-8be0-6f4f8e6df85f"
      },
      "execution_count": null,
      "outputs": [
        {
          "output_type": "stream",
          "name": "stdout",
          "text": [
            "+-----+------------+\n",
            "|Month|MonthlyTotal|\n",
            "+-----+------------+\n",
            "|    1|    101200.0|\n",
            "|    3|     32500.0|\n",
            "|    2|     28500.0|\n",
            "+-----+------------+\n",
            "\n"
          ]
        }
      ]
    },
    {
      "cell_type": "code",
      "source": [
        "#6. String & Date Functions\n",
        "#Mask emails using regex (e.g., a***@gmail.com )\n",
        "from pyspark.sql.functions import regexp_replace, concat_ws, datediff, current_date, month\n",
        "# Re-load customers with Email since we dropped email in task 2 (needed for email masking)\n",
        "customers_with_email = spark.read.csv('/content/drive/MyDrive/customers.csv', header=True, inferSchema=True)\n",
        "\n",
        "# Mask email using regex\n",
        "masked_emails = customers_with_email.withColumn(\"MaskedEmail\", regexp_replace(\"Email\", r\"(^.).+(@.*)\", r\"\\1***\\2\"))\n",
        "masked_emails.select(\"Name\", \"Email\", \"MaskedEmail\").show()"
      ],
      "metadata": {
        "colab": {
          "base_uri": "https://localhost:8080/"
        },
        "id": "LQ3I9N5vDZjr",
        "outputId": "9f839fd6-73b2-454f-d7b0-a196dfee1e06"
      },
      "execution_count": 50,
      "outputs": [
        {
          "output_type": "stream",
          "name": "stdout",
          "text": [
            "+-----+-----------------+-----------+\n",
            "| Name|            Email|MaskedEmail|\n",
            "+-----+-----------------+-----------+\n",
            "|  Ali|    ali@gmail.com|      1***2|\n",
            "| Neha|   neha@yahoo.com|      1***2|\n",
            "| Ravi| ravi@hotmail.com|      1***2|\n",
            "|Sneha|sneha@outlook.com|      1***2|\n",
            "| Amit|   amit@gmail.com|      1***2|\n",
            "+-----+-----------------+-----------+\n",
            "\n"
          ]
        }
      ]
    },
    {
      "cell_type": "code",
      "source": [
        "# Concatenate Name and City\n",
        "customers_named = customers_labeled.withColumn(\"NameCity\", concat_ws(\" from \", \"Name\", \"City\")).show()\n"
      ],
      "metadata": {
        "colab": {
          "base_uri": "https://localhost:8080/"
        },
        "id": "wyCvXOC0EbDi",
        "outputId": "238fefbb-5f78-491e-df4f-f6f1a87aab57"
      },
      "execution_count": 51,
      "outputs": [
        {
          "output_type": "stream",
          "name": "stdout",
          "text": [
            "+----------+-----+---------+----------+-------+--------------------+\n",
            "|CustomerID| Name|     City|SignupDate|Loyalty|            NameCity|\n",
            "+----------+-----+---------+----------+-------+--------------------+\n",
            "|       101|  Ali|   Mumbai|2022-05-10|    New|     Ali from Mumbai|\n",
            "|       102| Neha|    Delhi|2023-01-15|    New|     Neha from Delhi|\n",
            "|       103| Ravi|  Unknown|2021-11-01|  Loyal|   Ravi from Unknown|\n",
            "|       104|Sneha|Hyderabad|2020-07-22|  Loyal|Sneha from Hyderabad|\n",
            "|       105| Amit|  Chennai|2023-03-10|    New|   Amit from Chennai|\n",
            "+----------+-----+---------+----------+-------+--------------------+\n",
            "\n"
          ]
        }
      ]
    },
    {
      "cell_type": "code",
      "source": [
        "from pyspark.sql.functions import datediff, current_date\n",
        "#Use datediff() to calculate customer age in days\n",
        "customers_with_age = customers.withColumn(\"CustomerAge\", datediff(current_date(), col(\"SignupDate\")))\n",
        "customers_with_age.select(\"Name\", \"SignupDate\", \"CustomerAge\").show()"
      ],
      "metadata": {
        "colab": {
          "base_uri": "https://localhost:8080/"
        },
        "id": "tYzVAzJ-EmyB",
        "outputId": "3978b105-61b9-4236-c153-68fc8a0bc89d"
      },
      "execution_count": 52,
      "outputs": [
        {
          "output_type": "stream",
          "name": "stdout",
          "text": [
            "+-----+----------+-----------+\n",
            "| Name|SignupDate|CustomerAge|\n",
            "+-----+----------+-----------+\n",
            "|  Ali|2022-05-10|       1126|\n",
            "| Neha|2023-01-15|        876|\n",
            "| Ravi|2021-11-01|       1316|\n",
            "|Sneha|2020-07-22|       1783|\n",
            "| Amit|2023-03-10|        822|\n",
            "+-----+----------+-----------+\n",
            "\n"
          ]
        }
      ]
    },
    {
      "cell_type": "code",
      "source": [
        "#Extract month name from OrderDate\n",
        "from pyspark.sql.functions import date_format\n",
        "orders_with_month = orders.withColumn(\"MonthName\", date_format(\"OrderDate\", \"MMMM\"))\n",
        "orders_with_month.select(\"OrderID\", \"OrderDate\", \"MonthName\").show()"
      ],
      "metadata": {
        "colab": {
          "base_uri": "https://localhost:8080/"
        },
        "id": "kJcAWgaiJXQb",
        "outputId": "f96fbcdf-ce9c-4498-d1e7-70f72326665d"
      },
      "execution_count": 53,
      "outputs": [
        {
          "output_type": "stream",
          "name": "stdout",
          "text": [
            "+-------+----------+---------+\n",
            "|OrderID| OrderDate|MonthName|\n",
            "+-------+----------+---------+\n",
            "|      1|2024-01-10|  January|\n",
            "|      2|2024-01-15|  January|\n",
            "|      3|2024-02-01| February|\n",
            "|      4|2024-02-10| February|\n",
            "|      5|2024-02-15| February|\n",
            "|      6|2024-03-01|    March|\n",
            "|      7|2024-03-02|    March|\n",
            "+-------+----------+---------+\n",
            "\n"
          ]
        }
      ]
    },
    {
      "cell_type": "code",
      "source": [
        "#7. UDFs and Complex Logic\n",
        "#Write a UDF to tag customers:\n",
        "#“Gold” if spend >50K, “Silver” if 10K–50K, “Bronze” if <10K\n",
        "from pyspark.sql.functions import udf\n",
        "from pyspark.sql.types import StringType\n",
        "\n",
        "def customer_tag(amount):\n",
        "    if amount > 50000:\n",
        "        return \"Gold\"\n",
        "    elif amount >= 10000:\n",
        "        return \"Silver\"\n",
        "    else:\n",
        "        return \"Bronze\"\n",
        "\n",
        "tag_udf = udf(customer_tag, StringType())\n",
        "\n",
        "customer_spending = joined_df.groupBy(\"CustomerID\", \"Name\").agg(sum(\"TotalAmount\").alias(\"TotalSpend\"))\n",
        "customer_spending = customer_spending.withColumn(\"Tag\", tag_udf(\"TotalSpend\"))\n",
        "customer_spending.show()"
      ],
      "metadata": {
        "colab": {
          "base_uri": "https://localhost:8080/"
        },
        "id": "fqdiBhS_Jw1s",
        "outputId": "d220e6e4-cab7-44ed-b8fc-f40c50d9eae8"
      },
      "execution_count": 54,
      "outputs": [
        {
          "output_type": "stream",
          "name": "stdout",
          "text": [
            "+----------+-----+----------+------+\n",
            "|CustomerID| Name|TotalSpend|   Tag|\n",
            "+----------+-----+----------+------+\n",
            "|       105| Amit|    2500.0|Bronze|\n",
            "|       104|Sneha|    5000.0|Bronze|\n",
            "|       101|  Ali|  101200.0|  Gold|\n",
            "|       102| Neha|   50000.0|Silver|\n",
            "|       103| Ravi|    3500.0|Bronze|\n",
            "+----------+-----+----------+------+\n",
            "\n"
          ]
        }
      ]
    },
    {
      "cell_type": "code",
      "source": [
        "#Write a UDF to shorten product names (first 3 letters + ...)\n",
        "def short_name(name):\n",
        "    return name[:3] + \"...\" if len(name) > 3 else name\n",
        "\n",
        "short_udf = udf(short_name, StringType())\n",
        "orders_short = orders.withColumn(\"ShortProduct\", short_udf(\"Product\"))\n",
        "orders_short.select(\"Product\", \"ShortProduct\").show()"
      ],
      "metadata": {
        "colab": {
          "base_uri": "https://localhost:8080/"
        },
        "id": "Nw8PFg3pKBLv",
        "outputId": "6ee993e6-885a-472f-bc0f-f66ad8e11a48"
      },
      "execution_count": 55,
      "outputs": [
        {
          "output_type": "stream",
          "name": "stdout",
          "text": [
            "+---------+------------+\n",
            "|  Product|ShortProduct|\n",
            "+---------+------------+\n",
            "|   Laptop|      Lap...|\n",
            "|    Mouse|      Mou...|\n",
            "|   Tablet|      Tab...|\n",
            "|Bookshelf|      Boo...|\n",
            "|    Mixer|      Mix...|\n",
            "| Notebook|      Not...|\n",
            "|    Phone|      Pho...|\n",
            "+---------+------------+\n",
            "\n"
          ]
        }
      ]
    },
    {
      "cell_type": "code",
      "source": [
        "#8. Parquet & Views\n",
        "#Save the joined result as a Parquet file\n",
        "joined_df.write.mode(\"overwrite\").parquet(\"/content/drive/MyDrive/joined_data.parquet\")\n"
      ],
      "metadata": {
        "id": "tjVNYPiKKKM0"
      },
      "execution_count": 56,
      "outputs": []
    },
    {
      "cell_type": "code",
      "source": [
        "# Read back and verify\n",
        "parquet_df = spark.read.parquet(\"/content/drive/MyDrive/joined_data.parquet\")\n",
        "parquet_df.printSchema()"
      ],
      "metadata": {
        "colab": {
          "base_uri": "https://localhost:8080/"
        },
        "id": "WAqdyDgNKVW1",
        "outputId": "5081f1c9-086d-437e-8128-9c29ec7fa0c6"
      },
      "execution_count": 57,
      "outputs": [
        {
          "output_type": "stream",
          "name": "stdout",
          "text": [
            "root\n",
            " |-- CustomerID: integer (nullable = true)\n",
            " |-- Name: string (nullable = true)\n",
            " |-- City: string (nullable = true)\n",
            " |-- SignupDate: date (nullable = true)\n",
            " |-- Loyalty: string (nullable = true)\n",
            " |-- OrderID: integer (nullable = true)\n",
            " |-- Product: string (nullable = true)\n",
            " |-- Category: string (nullable = true)\n",
            " |-- Quantity: integer (nullable = true)\n",
            " |-- Price: double (nullable = true)\n",
            " |-- OrderDate: date (nullable = true)\n",
            " |-- TotalAmount: double (nullable = true)\n",
            " |-- OrderYear: integer (nullable = true)\n",
            " |-- OrderType: string (nullable = true)\n",
            "\n"
          ]
        }
      ]
    },
    {
      "cell_type": "code",
      "source": [
        "# Create and query a global temp view\n",
        "parquet_df.createOrReplaceGlobalTempView(\"global_joined\")\n",
        "\n",
        "spark.sql(\"SELECT * FROM global_temp.global_joined WHERE TotalAmount > 10000\").show()\n"
      ],
      "metadata": {
        "colab": {
          "base_uri": "https://localhost:8080/"
        },
        "id": "yLpqk9sZKbas",
        "outputId": "07d2c64f-b1d0-4dc9-b9d8-dce5d9ab76bf"
      },
      "execution_count": 58,
      "outputs": [
        {
          "output_type": "stream",
          "name": "stdout",
          "text": [
            "+----------+----+------+----------+-------+-------+-------+-----------+--------+-------+----------+-----------+---------+---------+\n",
            "|CustomerID|Name|  City|SignupDate|Loyalty|OrderID|Product|   Category|Quantity|  Price| OrderDate|TotalAmount|OrderYear|OrderType|\n",
            "+----------+----+------+----------+-------+-------+-------+-----------+--------+-------+----------+-----------+---------+---------+\n",
            "|       101| Ali|Mumbai|2022-05-10|    New|      1| Laptop|Electronics|       2|50000.0|2024-01-10|   100000.0|     2024|     High|\n",
            "|       102|Neha| Delhi|2023-01-15|    New|      3| Tablet|Electronics|       1|20000.0|2024-02-01|    20000.0|     2024|     High|\n",
            "|       102|Neha| Delhi|2023-01-15|    New|      7|  Phone|Electronics|       1|30000.0|2024-03-02|    30000.0|     2024|     High|\n",
            "+----------+----+------+----------+-------+-------+-------+-----------+--------+-------+----------+-----------+---------+---------+\n",
            "\n"
          ]
        }
      ]
    },
    {
      "cell_type": "code",
      "source": [
        "#Compare performance between CSV read and Parquet read\n",
        "import time\n",
        "\n",
        "start_csv = time.time()\n",
        "_ = spark.read.csv('/content/drive/MyDrive/orders.csv', header=True, inferSchema=True).count()\n",
        "end_csv = time.time()\n",
        "\n",
        "start_parquet = time.time()\n",
        "_ = spark.read.parquet(\"/content/drive/MyDrive/joined_data.parquet\").count()\n",
        "end_parquet = time.time()\n",
        "\n",
        "print(f\"CSV Read Time: {end_csv - start_csv:.4f} seconds\")\n",
        "print(f\"Parquet Read Time: {end_parquet - start_parquet:.4f} seconds\")"
      ],
      "metadata": {
        "colab": {
          "base_uri": "https://localhost:8080/"
        },
        "id": "4b6GfURHKlZr",
        "outputId": "c1c18844-854f-4b90-a793-e4fdd5b12a55"
      },
      "execution_count": 59,
      "outputs": [
        {
          "output_type": "stream",
          "name": "stdout",
          "text": [
            "CSV Read Time: 0.8832 seconds\n",
            "Parquet Read Time: 0.5586 seconds\n"
          ]
        }
      ]
    }
  ]
}