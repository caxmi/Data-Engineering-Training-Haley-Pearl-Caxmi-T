{
  "nbformat": 4,
  "nbformat_minor": 0,
  "metadata": {
    "colab": {
      "provenance": []
    },
    "kernelspec": {
      "name": "python3",
      "display_name": "Python 3"
    },
    "language_info": {
      "name": "python"
    }
  },
  "cells": [
    {
      "cell_type": "code",
      "execution_count": 40,
      "metadata": {
        "colab": {
          "base_uri": "https://localhost:8080/",
          "height": 222
        },
        "id": "SmXTovXQMG17",
        "outputId": "05c7e0cd-0c68-4c2d-8ffe-f2df97b65dfa"
      },
      "outputs": [
        {
          "output_type": "execute_result",
          "data": {
            "text/plain": [
              "<pyspark.sql.session.SparkSession at 0x79b004197ad0>"
            ],
            "text/html": [
              "\n",
              "            <div>\n",
              "                <p><b>SparkSession - in-memory</b></p>\n",
              "                \n",
              "        <div>\n",
              "            <p><b>SparkContext</b></p>\n",
              "\n",
              "            <p><a href=\"http://b4c77bdd9a00:4040\">Spark UI</a></p>\n",
              "\n",
              "            <dl>\n",
              "              <dt>Version</dt>\n",
              "                <dd><code>v3.5.1</code></dd>\n",
              "              <dt>Master</dt>\n",
              "                <dd><code>local[*]</code></dd>\n",
              "              <dt>AppName</dt>\n",
              "                <dd><code>PySparkTaskSet</code></dd>\n",
              "            </dl>\n",
              "        </div>\n",
              "        \n",
              "            </div>\n",
              "        "
            ]
          },
          "metadata": {},
          "execution_count": 40
        }
      ],
      "source": [
        "from pyspark.sql import SparkSession\n",
        "from pyspark.sql.functions import *\n",
        "\n",
        "\n",
        "spark = SparkSession.builder.appName(\"PySparkTaskSet\").getOrCreate()\n",
        "spark\n",
        ""
      ]
    },
    {
      "cell_type": "code",
      "source": [
        "# Mount Drive\n",
        "from google.colab import drive\n",
        "drive.mount('/content/drive')\n",
        "# Set data paths\n",
        "base_path = \"/content/drive/MyDrive\"\n",
        "emp_path = f\"{base_path}/employees.csv\"\n",
        "att_path = f\"{base_path}/attendance.csv\"\n",
        "bonus_path = f\"{base_path}/bonuses.json\"\n"
      ],
      "metadata": {
        "colab": {
          "base_uri": "https://localhost:8080/"
        },
        "id": "w7g2bzeFOvk8",
        "outputId": "95503961-f0d9-4cbb-e753-7aa82f972582"
      },
      "execution_count": 10,
      "outputs": [
        {
          "output_type": "stream",
          "name": "stdout",
          "text": [
            "Drive already mounted at /content/drive; to attempt to forcibly remount, call drive.mount(\"/content/drive\", force_remount=True).\n"
          ]
        }
      ]
    },
    {
      "cell_type": "code",
      "source": [
        "#1. Ingestion & Exploration\n",
        "#Read all 3 files (CSV + JSON) using PySpark\n",
        "employees = spark.read.option(\"header\", True).csv(emp_path, inferSchema=True)\n",
        "attendance = spark.read.option(\"header\", True).csv(att_path, inferSchema=True)\n",
        "bonuses = spark.read.option(\"multiline\", True).json(bonus_path)"
      ],
      "metadata": {
        "id": "LSz3RLu9PRYv"
      },
      "execution_count": 11,
      "outputs": []
    },
    {
      "cell_type": "code",
      "source": [
        "#Show schemas and sample records\n",
        "employees.printSchema()\n",
        "attendance.printSchema()\n",
        "bonuses.printSchema()\n",
        "\n",
        "employees.show(truncate=False)\n",
        "attendance.show(truncate=False)\n",
        "bonuses.show(truncate=False)"
      ],
      "metadata": {
        "colab": {
          "base_uri": "https://localhost:8080/"
        },
        "id": "UxDy2SldP8Av",
        "outputId": "0fc98193-1fed-4896-ce6c-ae9469c244d5"
      },
      "execution_count": 12,
      "outputs": [
        {
          "output_type": "stream",
          "name": "stdout",
          "text": [
            "root\n",
            " |-- EmpID: integer (nullable = true)\n",
            " |-- Name: string (nullable = true)\n",
            " |-- Department: string (nullable = true)\n",
            " |-- JoinDate: date (nullable = true)\n",
            " |-- Salary: integer (nullable = true)\n",
            " |-- ManagerID: integer (nullable = true)\n",
            "\n",
            "root\n",
            " |-- EmpID: integer (nullable = true)\n",
            " |-- Date: date (nullable = true)\n",
            " |-- Status: string (nullable = true)\n",
            "\n",
            "root\n",
            " |-- Bonus: long (nullable = true)\n",
            " |-- EmpID: long (nullable = true)\n",
            " |-- Year: long (nullable = true)\n",
            "\n",
            "+-----+------+-----------+----------+------+---------+\n",
            "|EmpID|Name  |Department |JoinDate  |Salary|ManagerID|\n",
            "+-----+------+-----------+----------+------+---------+\n",
            "|1    |Anita |HR         |2021-05-01|55000 |NULL     |\n",
            "|2    |Raj   |Engineering|2020-03-15|80000 |1        |\n",
            "|3    |Simran|Engineering|2022-07-10|75000 |1        |\n",
            "|4    |Aamir |Marketing  |2019-11-20|60000 |1        |\n",
            "|5    |Nisha |HR         |2023-01-05|50000 |1        |\n",
            "+-----+------+-----------+----------+------+---------+\n",
            "\n",
            "+-----+----------+-------+\n",
            "|EmpID|Date      |Status |\n",
            "+-----+----------+-------+\n",
            "|1    |2024-04-01|Present|\n",
            "|1    |2024-04-02|Present|\n",
            "|2    |2024-04-01|Absent |\n",
            "|2    |2024-04-02|Present|\n",
            "|3    |2024-04-01|Present|\n",
            "|3    |2024-04-02|Present|\n",
            "|4    |2024-04-01|Absent |\n",
            "|4    |2024-04-02|Absent |\n",
            "|5    |2024-04-01|Present|\n",
            "|5    |2024-04-02|Present|\n",
            "+-----+----------+-------+\n",
            "\n",
            "+-----+-----+----+\n",
            "|Bonus|EmpID|Year|\n",
            "+-----+-----+----+\n",
            "|5000 |1    |2023|\n",
            "|7000 |2    |2023|\n",
            "|6500 |3    |2023|\n",
            "|6000 |4    |2023|\n",
            "|4000 |5    |2023|\n",
            "+-----+-----+----+\n",
            "\n"
          ]
        }
      ]
    },
    {
      "cell_type": "code",
      "source": [
        "#Count distinct departments\n",
        "employees.select(\"Department\").distinct().show()"
      ],
      "metadata": {
        "colab": {
          "base_uri": "https://localhost:8080/"
        },
        "id": "gx5IN9CWQFcq",
        "outputId": "992f8d4f-60d1-44e5-ae4e-88f8653ddd67"
      },
      "execution_count": 13,
      "outputs": [
        {
          "output_type": "stream",
          "name": "stdout",
          "text": [
            "+-----------+\n",
            "| Department|\n",
            "+-----------+\n",
            "|Engineering|\n",
            "|         HR|\n",
            "|  Marketing|\n",
            "+-----------+\n",
            "\n"
          ]
        }
      ]
    },
    {
      "cell_type": "code",
      "source": [
        "#2. DataFrame Operations\n",
        "#Add a column TenureYears using datediff() and round()\n",
        "from pyspark.sql.functions import datediff, current_date, round, col\n",
        "\n",
        "emp_with_tenure = employees.withColumn(\"TenureYears\", round(datediff(current_date(), col(\"JoinDate\"))/365, 2))\n",
        "emp_with_tenure.show()"
      ],
      "metadata": {
        "colab": {
          "base_uri": "https://localhost:8080/"
        },
        "id": "ydYxGz3yQJQC",
        "outputId": "f887a917-9c55-418f-e084-7040b8a1c364"
      },
      "execution_count": 14,
      "outputs": [
        {
          "output_type": "stream",
          "name": "stdout",
          "text": [
            "+-----+------+-----------+----------+------+---------+-----------+\n",
            "|EmpID|  Name| Department|  JoinDate|Salary|ManagerID|TenureYears|\n",
            "+-----+------+-----------+----------+------+---------+-----------+\n",
            "|    1| Anita|         HR|2021-05-01| 55000|     NULL|       4.11|\n",
            "|    2|   Raj|Engineering|2020-03-15| 80000|        1|       5.24|\n",
            "|    3|Simran|Engineering|2022-07-10| 75000|        1|       2.92|\n",
            "|    4| Aamir|  Marketing|2019-11-20| 60000|        1|       5.56|\n",
            "|    5| Nisha|         HR|2023-01-05| 50000|        1|       2.43|\n",
            "+-----+------+-----------+----------+------+---------+-----------+\n",
            "\n"
          ]
        }
      ]
    },
    {
      "cell_type": "code",
      "source": [
        "#Calculate TotalCompensation = Salary + Bonus\n",
        "emp_bonus = emp_with_tenure.join(bonuses, \"EmpID\", \"left\")\n",
        "emp_comp = emp_bonus.withColumn(\"TotalCompensation\", col(\"Salary\") + col(\"Bonus\"))\n",
        "emp_comp.select(\"EmpID\", \"Name\", \"Salary\", \"Bonus\", \"TotalCompensation\").show()"
      ],
      "metadata": {
        "colab": {
          "base_uri": "https://localhost:8080/"
        },
        "id": "o6y_BngiQj4p",
        "outputId": "8027f5f6-1e2e-4133-cf72-974caac966fc"
      },
      "execution_count": 15,
      "outputs": [
        {
          "output_type": "stream",
          "name": "stdout",
          "text": [
            "+-----+------+------+-----+-----------------+\n",
            "|EmpID|  Name|Salary|Bonus|TotalCompensation|\n",
            "+-----+------+------+-----+-----------------+\n",
            "|    1| Anita| 55000| 5000|            60000|\n",
            "|    2|   Raj| 80000| 7000|            87000|\n",
            "|    3|Simran| 75000| 6500|            81500|\n",
            "|    4| Aamir| 60000| 6000|            66000|\n",
            "|    5| Nisha| 50000| 4000|            54000|\n",
            "+-----+------+------+-----+-----------------+\n",
            "\n"
          ]
        }
      ]
    },
    {
      "cell_type": "code",
      "source": [
        "#Filter employees with more than 2 years\n",
        "emp_comp.filter(col(\"TenureYears\") > 2).show()"
      ],
      "metadata": {
        "colab": {
          "base_uri": "https://localhost:8080/"
        },
        "id": "_g6NzJ_JQsL5",
        "outputId": "c6c90c38-45f4-45ff-8c88-0108772ced39"
      },
      "execution_count": 16,
      "outputs": [
        {
          "output_type": "stream",
          "name": "stdout",
          "text": [
            "+-----+------+-----------+----------+------+---------+-----------+-----+----+-----------------+\n",
            "|EmpID|  Name| Department|  JoinDate|Salary|ManagerID|TenureYears|Bonus|Year|TotalCompensation|\n",
            "+-----+------+-----------+----------+------+---------+-----------+-----+----+-----------------+\n",
            "|    1| Anita|         HR|2021-05-01| 55000|     NULL|       4.11| 5000|2023|            60000|\n",
            "|    2|   Raj|Engineering|2020-03-15| 80000|        1|       5.24| 7000|2023|            87000|\n",
            "|    3|Simran|Engineering|2022-07-10| 75000|        1|       2.92| 6500|2023|            81500|\n",
            "|    4| Aamir|  Marketing|2019-11-20| 60000|        1|       5.56| 6000|2023|            66000|\n",
            "|    5| Nisha|         HR|2023-01-05| 50000|        1|       2.43| 4000|2023|            54000|\n",
            "+-----+------+-----------+----------+------+---------+-----------+-----+----+-----------------+\n",
            "\n"
          ]
        }
      ]
    },
    {
      "cell_type": "code",
      "source": [
        "#Employees who report to a manager\n",
        "employees.filter(col(\"ManagerID\").isNotNull()).show()"
      ],
      "metadata": {
        "colab": {
          "base_uri": "https://localhost:8080/"
        },
        "id": "-oWW8yX0QvJv",
        "outputId": "95a23feb-39b2-40a8-8f29-116d2a40ab88"
      },
      "execution_count": 17,
      "outputs": [
        {
          "output_type": "stream",
          "name": "stdout",
          "text": [
            "+-----+------+-----------+----------+------+---------+\n",
            "|EmpID|  Name| Department|  JoinDate|Salary|ManagerID|\n",
            "+-----+------+-----------+----------+------+---------+\n",
            "|    2|   Raj|Engineering|2020-03-15| 80000|        1|\n",
            "|    3|Simran|Engineering|2022-07-10| 75000|        1|\n",
            "|    4| Aamir|  Marketing|2019-11-20| 60000|        1|\n",
            "|    5| Nisha|         HR|2023-01-05| 50000|        1|\n",
            "+-----+------+-----------+----------+------+---------+\n",
            "\n"
          ]
        }
      ]
    },
    {
      "cell_type": "code",
      "source": [
        "#3. Aggregation\n",
        "#Average salary per department\n",
        "employees.groupBy(\"Department\").agg(avg(\"Salary\").alias(\"AvgSalary\")).show()"
      ],
      "metadata": {
        "colab": {
          "base_uri": "https://localhost:8080/"
        },
        "id": "DpR8ql1iQ1F3",
        "outputId": "02f9d83b-307e-40b3-d5c1-c519406466c6"
      },
      "execution_count": 18,
      "outputs": [
        {
          "output_type": "stream",
          "name": "stdout",
          "text": [
            "+-----------+---------+\n",
            "| Department|AvgSalary|\n",
            "+-----------+---------+\n",
            "|Engineering|  77500.0|\n",
            "|         HR|  52500.0|\n",
            "|  Marketing|  60000.0|\n",
            "+-----------+---------+\n",
            "\n"
          ]
        }
      ]
    },
    {
      "cell_type": "code",
      "source": [
        "#Number of employees under each manager\n",
        "employees.groupBy(\"ManagerID\").count().withColumnRenamed(\"count\", \"EmployeesUnder\").show()"
      ],
      "metadata": {
        "colab": {
          "base_uri": "https://localhost:8080/"
        },
        "id": "RNN2cQXpQ7gp",
        "outputId": "47a86506-16ba-44af-e1ba-3d558394ffd5"
      },
      "execution_count": 19,
      "outputs": [
        {
          "output_type": "stream",
          "name": "stdout",
          "text": [
            "+---------+--------------+\n",
            "|ManagerID|EmployeesUnder|\n",
            "+---------+--------------+\n",
            "|     NULL|             1|\n",
            "|        1|             4|\n",
            "+---------+--------------+\n",
            "\n"
          ]
        }
      ]
    },
    {
      "cell_type": "code",
      "source": [
        "#Count of absences per employee\n",
        "attendance.filter(col(\"Status\") == \"Absent\").groupBy(\"EmpID\").count().withColumnRenamed(\"count\", \"Absences\").show()"
      ],
      "metadata": {
        "colab": {
          "base_uri": "https://localhost:8080/"
        },
        "id": "9rJfkeToRBTu",
        "outputId": "c35853e8-eacf-479d-9475-981ceb706b1e"
      },
      "execution_count": 20,
      "outputs": [
        {
          "output_type": "stream",
          "name": "stdout",
          "text": [
            "+-----+--------+\n",
            "|EmpID|Absences|\n",
            "+-----+--------+\n",
            "|    4|       2|\n",
            "|    2|       1|\n",
            "+-----+--------+\n",
            "\n"
          ]
        }
      ]
    },
    {
      "cell_type": "code",
      "source": [
        "#4. Joins\n",
        "#Join employees + attendance → Attendance %\n",
        "total_days = attendance.groupBy(\"EmpID\").count().withColumnRenamed(\"count\", \"TotalDays\")\n",
        "present_days = attendance.filter(col(\"Status\") == \"Present\").groupBy(\"EmpID\").count().withColumnRenamed(\"count\", \"PresentDays\")\n",
        "attendance_pct = total_days.join(present_days, \"EmpID\").withColumn(\"AttendancePct\", round(col(\"PresentDays\") / col(\"TotalDays\") * 100, 2))\n",
        "attendance_pct.show()"
      ],
      "metadata": {
        "colab": {
          "base_uri": "https://localhost:8080/"
        },
        "id": "eCCfHCQVRF1-",
        "outputId": "29f15fcd-0a45-4e26-d580-5301f6a73088"
      },
      "execution_count": 21,
      "outputs": [
        {
          "output_type": "stream",
          "name": "stdout",
          "text": [
            "+-----+---------+-----------+-------------+\n",
            "|EmpID|TotalDays|PresentDays|AttendancePct|\n",
            "+-----+---------+-----------+-------------+\n",
            "|    1|        2|          2|        100.0|\n",
            "|    3|        2|          2|        100.0|\n",
            "|    5|        2|          2|        100.0|\n",
            "|    2|        2|          1|         50.0|\n",
            "+-----+---------+-----------+-------------+\n",
            "\n"
          ]
        }
      ]
    },
    {
      "cell_type": "code",
      "source": [
        "#Join employees + bonuses → Top 3 by TotalCompensation\n",
        "top3 = emp_comp.orderBy(col(\"TotalCompensation\").desc()).limit(3)\n",
        "top3.select(\"EmpID\", \"Name\", \"TotalCompensation\").show()"
      ],
      "metadata": {
        "colab": {
          "base_uri": "https://localhost:8080/"
        },
        "id": "b3ETt32ZRMzF",
        "outputId": "32bb4505-ef6f-452c-c89c-e91b4114c228"
      },
      "execution_count": 22,
      "outputs": [
        {
          "output_type": "stream",
          "name": "stdout",
          "text": [
            "+-----+------+-----------------+\n",
            "|EmpID|  Name|TotalCompensation|\n",
            "+-----+------+-----------------+\n",
            "|    2|   Raj|            87000|\n",
            "|    3|Simran|            81500|\n",
            "|    4| Aamir|            66000|\n",
            "+-----+------+-----------------+\n",
            "\n"
          ]
        }
      ]
    },
    {
      "cell_type": "code",
      "source": [
        "#Multi-level join: employees + bonuses + attendance\n",
        "multi_join = employees.join(bonuses, \"EmpID\", \"left\").join(attendance, \"EmpID\", \"left\")\n",
        "multi_join.show()"
      ],
      "metadata": {
        "colab": {
          "base_uri": "https://localhost:8080/"
        },
        "id": "-H8AEfaMRPo8",
        "outputId": "07e7db2e-81ed-4eaf-f016-c5a736e23020"
      },
      "execution_count": 39,
      "outputs": [
        {
          "output_type": "stream",
          "name": "stdout",
          "text": [
            "+-----+------+-----------+----------+------+---------+-----+----+----------+-------+\n",
            "|EmpID|  Name| Department|  JoinDate|Salary|ManagerID|Bonus|Year|      Date| Status|\n",
            "+-----+------+-----------+----------+------+---------+-----+----+----------+-------+\n",
            "|    1| Anita|         HR|2021-05-01| 55000|     NULL| 5000|2023|2024-04-02|Present|\n",
            "|    1| Anita|         HR|2021-05-01| 55000|     NULL| 5000|2023|2024-04-01|Present|\n",
            "|    2|   Raj|Engineering|2020-03-15| 80000|        1| 7000|2023|2024-04-02|Present|\n",
            "|    2|   Raj|Engineering|2020-03-15| 80000|        1| 7000|2023|2024-04-01| Absent|\n",
            "|    3|Simran|Engineering|2022-07-10| 75000|        1| 6500|2023|2024-04-02|Present|\n",
            "|    3|Simran|Engineering|2022-07-10| 75000|        1| 6500|2023|2024-04-01|Present|\n",
            "|    4| Aamir|  Marketing|2019-11-20| 60000|        1| 6000|2023|2024-04-02| Absent|\n",
            "|    4| Aamir|  Marketing|2019-11-20| 60000|        1| 6000|2023|2024-04-01| Absent|\n",
            "|    5| Nisha|         HR|2023-01-05| 50000|        1| 4000|2023|2024-04-02|Present|\n",
            "|    5| Nisha|         HR|2023-01-05| 50000|        1| 4000|2023|2024-04-01|Present|\n",
            "+-----+------+-----------+----------+------+---------+-----+----+----------+-------+\n",
            "\n"
          ]
        }
      ]
    },
    {
      "cell_type": "code",
      "source": [
        "#5. String & Date Functions\n",
        "#Extract year and month from JoinDate\n",
        "employees.withColumn(\"JoinYear\", year(\"JoinDate\")).withColumn(\"JoinMonth\", month(\"JoinDate\")).select(\"EmpID\", \"Name\", \"JoinYear\", \"JoinMonth\").show()\n"
      ],
      "metadata": {
        "colab": {
          "base_uri": "https://localhost:8080/"
        },
        "id": "u_TmmFm6RXp8",
        "outputId": "462db2d0-125d-4863-b22c-eb0da598314a"
      },
      "execution_count": 24,
      "outputs": [
        {
          "output_type": "stream",
          "name": "stdout",
          "text": [
            "+-----+------+--------+---------+\n",
            "|EmpID|  Name|JoinYear|JoinMonth|\n",
            "+-----+------+--------+---------+\n",
            "|    1| Anita|    2021|        5|\n",
            "|    2|   Raj|    2020|        3|\n",
            "|    3|Simran|    2022|        7|\n",
            "|    4| Aamir|    2019|       11|\n",
            "|    5| Nisha|    2023|        1|\n",
            "+-----+------+--------+---------+\n",
            "\n"
          ]
        }
      ]
    },
    {
      "cell_type": "code",
      "source": [
        "#Mask names using regex_replace\n",
        "employees.withColumn(\"MaskedName\", regexp_replace(\"Name\", r'[a-zA-Z]', '*')).show()"
      ],
      "metadata": {
        "colab": {
          "base_uri": "https://localhost:8080/"
        },
        "id": "mqYiWDM3RamY",
        "outputId": "1fd3c551-2ce5-4ca5-91c8-61c62f15d66c"
      },
      "execution_count": 25,
      "outputs": [
        {
          "output_type": "stream",
          "name": "stdout",
          "text": [
            "+-----+------+-----------+----------+------+---------+----------+\n",
            "|EmpID|  Name| Department|  JoinDate|Salary|ManagerID|MaskedName|\n",
            "+-----+------+-----------+----------+------+---------+----------+\n",
            "|    1| Anita|         HR|2021-05-01| 55000|     NULL|     *****|\n",
            "|    2|   Raj|Engineering|2020-03-15| 80000|        1|       ***|\n",
            "|    3|Simran|Engineering|2022-07-10| 75000|        1|    ******|\n",
            "|    4| Aamir|  Marketing|2019-11-20| 60000|        1|     *****|\n",
            "|    5| Nisha|         HR|2023-01-05| 50000|        1|     *****|\n",
            "+-----+------+-----------+----------+------+---------+----------+\n",
            "\n"
          ]
        }
      ]
    },
    {
      "cell_type": "code",
      "source": [
        "#Create EmpCode like EMP001\n",
        "employees.withColumn(\"EmpCode\", format_string(\"EMP%03d\", col(\"EmpID\"))).show()"
      ],
      "metadata": {
        "colab": {
          "base_uri": "https://localhost:8080/"
        },
        "id": "Ys3XknUURfSE",
        "outputId": "52857386-869b-4c7c-d205-d01cbdf23227"
      },
      "execution_count": 26,
      "outputs": [
        {
          "output_type": "stream",
          "name": "stdout",
          "text": [
            "+-----+------+-----------+----------+------+---------+-------+\n",
            "|EmpID|  Name| Department|  JoinDate|Salary|ManagerID|EmpCode|\n",
            "+-----+------+-----------+----------+------+---------+-------+\n",
            "|    1| Anita|         HR|2021-05-01| 55000|     NULL| EMP001|\n",
            "|    2|   Raj|Engineering|2020-03-15| 80000|        1| EMP002|\n",
            "|    3|Simran|Engineering|2022-07-10| 75000|        1| EMP003|\n",
            "|    4| Aamir|  Marketing|2019-11-20| 60000|        1| EMP004|\n",
            "|    5| Nisha|         HR|2023-01-05| 50000|        1| EMP005|\n",
            "+-----+------+-----------+----------+------+---------+-------+\n",
            "\n"
          ]
        }
      ]
    },
    {
      "cell_type": "code",
      "source": [
        "#6. Conditional & Null Handling\n",
        "#Label performance\n",
        "emp_perf = emp_bonus.withColumn(\n",
        "    \"Performance\",\n",
        "    when(col(\"Bonus\") > 6000, \"High\")\n",
        "    .when((col(\"Bonus\") >= 4000) & (col(\"Bonus\") <= 6000), \"Medium\")\n",
        "    .otherwise(\"Low\")\n",
        ")\n",
        "emp_perf.select(\"EmpID\", \"Name\", \"Bonus\", \"Performance\").show()"
      ],
      "metadata": {
        "colab": {
          "base_uri": "https://localhost:8080/"
        },
        "id": "uSXWDSy9RkJn",
        "outputId": "7edf3581-18e5-422e-d0b0-9ca728f1ce54"
      },
      "execution_count": 27,
      "outputs": [
        {
          "output_type": "stream",
          "name": "stdout",
          "text": [
            "+-----+------+-----+-----------+\n",
            "|EmpID|  Name|Bonus|Performance|\n",
            "+-----+------+-----+-----------+\n",
            "|    1| Anita| 5000|     Medium|\n",
            "|    2|   Raj| 7000|       High|\n",
            "|    3|Simran| 6500|       High|\n",
            "|    4| Aamir| 6000|     Medium|\n",
            "|    5| Nisha| 4000|     Medium|\n",
            "+-----+------+-----+-----------+\n",
            "\n"
          ]
        }
      ]
    },
    {
      "cell_type": "code",
      "source": [
        "#Handle missing ManagerID using fillna(\"No Manager\")\n",
        "employees.withColumn(\"ManagerID_str\", col(\"ManagerID\").cast(\"string\")).fillna(\"No Manager\", subset=[\"ManagerID_str\"]).show()\n"
      ],
      "metadata": {
        "colab": {
          "base_uri": "https://localhost:8080/"
        },
        "id": "7rri2oGJRv2V",
        "outputId": "7f7c62e8-c8f3-49cc-c30b-1b99e5c93590"
      },
      "execution_count": 38,
      "outputs": [
        {
          "output_type": "stream",
          "name": "stdout",
          "text": [
            "+-----+------+-----------+----------+------+---------+-------------+\n",
            "|EmpID|  Name| Department|  JoinDate|Salary|ManagerID|ManagerID_str|\n",
            "+-----+------+-----------+----------+------+---------+-------------+\n",
            "|    1| Anita|         HR|2021-05-01| 55000|     NULL|   No Manager|\n",
            "|    2|   Raj|Engineering|2020-03-15| 80000|        1|            1|\n",
            "|    3|Simran|Engineering|2022-07-10| 75000|        1|            1|\n",
            "|    4| Aamir|  Marketing|2019-11-20| 60000|        1|            1|\n",
            "|    5| Nisha|         HR|2023-01-05| 50000|        1|            1|\n",
            "+-----+------+-----------+----------+------+---------+-------------+\n",
            "\n"
          ]
        }
      ]
    },
    {
      "cell_type": "code",
      "source": [
        "#7. Spark SQL\n",
        "#Create database\n",
        "spark.sql(\"CREATE DATABASE IF NOT EXISTS hr\")\n",
        "spark.sql(\"USE hr\")"
      ],
      "metadata": {
        "colab": {
          "base_uri": "https://localhost:8080/"
        },
        "id": "cXFFB6_DSAkL",
        "outputId": "0eeafe90-5451-4369-bdee-f2508a25b333"
      },
      "execution_count": 29,
      "outputs": [
        {
          "output_type": "execute_result",
          "data": {
            "text/plain": [
              "DataFrame[]"
            ]
          },
          "metadata": {},
          "execution_count": 29
        }
      ]
    },
    {
      "cell_type": "code",
      "source": [
        "#Save as temp views (or as permanent tables in warehouse path if needed)\n",
        "employees.createOrReplaceTempView(\"employees\")\n",
        "attendance.createOrReplaceTempView(\"attendance\")\n",
        "bonuses.createOrReplaceTempView(\"bonuses\")"
      ],
      "metadata": {
        "id": "wm5pHxH-SGLa"
      },
      "execution_count": 30,
      "outputs": []
    },
    {
      "cell_type": "code",
      "source": [
        "#Top paid employee in each department\n",
        "spark.sql(\"\"\"\n",
        "SELECT Department, Name, Salary\n",
        "FROM (\n",
        "    SELECT *, ROW_NUMBER() OVER (PARTITION BY Department ORDER BY Salary DESC) as rnk\n",
        "    FROM employees\n",
        ") WHERE rnk = 1\n",
        "\"\"\").show()\n"
      ],
      "metadata": {
        "colab": {
          "base_uri": "https://localhost:8080/"
        },
        "id": "I002-TiTSJh6",
        "outputId": "69e7b5f2-d702-4387-9da1-25f2c189023f"
      },
      "execution_count": 31,
      "outputs": [
        {
          "output_type": "stream",
          "name": "stdout",
          "text": [
            "+-----------+-----+------+\n",
            "| Department| Name|Salary|\n",
            "+-----------+-----+------+\n",
            "|Engineering|  Raj| 80000|\n",
            "|         HR|Anita| 55000|\n",
            "|  Marketing|Aamir| 60000|\n",
            "+-----------+-----+------+\n",
            "\n"
          ]
        }
      ]
    },
    {
      "cell_type": "code",
      "source": [
        "#Attendance rate by department\n",
        "spark.sql(\"\"\"\n",
        "SELECT e.Department, ROUND(SUM(CASE WHEN a.Status='Present' THEN 1 ELSE 0 END)*100.0/COUNT(*), 2) AS AttendanceRate\n",
        "FROM employees e\n",
        "JOIN attendance a ON e.EmpID = a.EmpID\n",
        "GROUP BY e.Department\n",
        "\"\"\").show()"
      ],
      "metadata": {
        "colab": {
          "base_uri": "https://localhost:8080/"
        },
        "id": "37uogi7XSOIa",
        "outputId": "da87461b-8719-448a-846f-e9b3e2d7578a"
      },
      "execution_count": 32,
      "outputs": [
        {
          "output_type": "stream",
          "name": "stdout",
          "text": [
            "+-----------+--------------+\n",
            "| Department|AttendanceRate|\n",
            "+-----------+--------------+\n",
            "|Engineering|         75.00|\n",
            "|         HR|        100.00|\n",
            "|  Marketing|          0.00|\n",
            "+-----------+--------------+\n",
            "\n"
          ]
        }
      ]
    },
    {
      "cell_type": "code",
      "source": [
        "#Employees joined after 2021 with salary > 70000\n",
        "spark.sql(\"\"\"\n",
        "SELECT * FROM employees\n",
        "WHERE year(JoinDate) > 2021 AND Salary > 70000\n",
        "\"\"\").show()"
      ],
      "metadata": {
        "colab": {
          "base_uri": "https://localhost:8080/"
        },
        "id": "OnxJIsJSSUw1",
        "outputId": "7cde8c60-0ed3-4f91-a10d-0958cf700a98"
      },
      "execution_count": 33,
      "outputs": [
        {
          "output_type": "stream",
          "name": "stdout",
          "text": [
            "+-----+------+-----------+----------+------+---------+\n",
            "|EmpID|  Name| Department|  JoinDate|Salary|ManagerID|\n",
            "+-----+------+-----------+----------+------+---------+\n",
            "|    3|Simran|Engineering|2022-07-10| 75000|        1|\n",
            "+-----+------+-----------+----------+------+---------+\n",
            "\n"
          ]
        }
      ]
    },
    {
      "cell_type": "code",
      "source": [
        "#8. Advanced\n",
        "# UDF to classify departments\n",
        "from pyspark.sql.types import StringType\n",
        "\n",
        "def dept_type(dept):\n",
        "    return \"Tech\" if dept in [\"Engineering\", \"IT\"] else \"Non-Tech\"\n",
        "\n",
        "spark.udf.register(\"dept_type_udf\", dept_type, StringType())\n",
        "\n",
        "employees.withColumn(\"DeptType\", expr(\"dept_type_udf(Department)\")).show()\n"
      ],
      "metadata": {
        "colab": {
          "base_uri": "https://localhost:8080/"
        },
        "id": "vVA5A1eFSY_j",
        "outputId": "63296ead-de80-4615-adad-83a611d76bc2"
      },
      "execution_count": 37,
      "outputs": [
        {
          "output_type": "stream",
          "name": "stdout",
          "text": [
            "+-----+------+-----------+----------+------+---------+--------+\n",
            "|EmpID|  Name| Department|  JoinDate|Salary|ManagerID|DeptType|\n",
            "+-----+------+-----------+----------+------+---------+--------+\n",
            "|    1| Anita|         HR|2021-05-01| 55000|     NULL|Non-Tech|\n",
            "|    2|   Raj|Engineering|2020-03-15| 80000|        1|    Tech|\n",
            "|    3|Simran|Engineering|2022-07-10| 75000|        1|    Tech|\n",
            "|    4| Aamir|  Marketing|2019-11-20| 60000|        1|Non-Tech|\n",
            "|    5| Nisha|         HR|2023-01-05| 50000|        1|Non-Tech|\n",
            "+-----+------+-----------+----------+------+---------+--------+\n",
            "\n"
          ]
        }
      ]
    },
    {
      "cell_type": "code",
      "source": [
        "#Create a view emp_attendance_summary\n",
        "emp_attendance_summary = employees.join(attendance_pct, \"EmpID\", \"left\")\n",
        "emp_attendance_summary.createOrReplaceTempView(\"emp_attendance_summary\")"
      ],
      "metadata": {
        "id": "amqVFWHoSgVZ"
      },
      "execution_count": 35,
      "outputs": []
    },
    {
      "cell_type": "code",
      "source": [
        "#Save as Parquet partitioned by Department\n",
        "emp_attendance_summary.write.mode(\"overwrite\").partitionBy(\"Department\").parquet(\"/content/drive/MyDrive/emp_attendance_summary_parquet\")"
      ],
      "metadata": {
        "id": "TAlKlDTJSizj"
      },
      "execution_count": 36,
      "outputs": []
    }
  ]
}