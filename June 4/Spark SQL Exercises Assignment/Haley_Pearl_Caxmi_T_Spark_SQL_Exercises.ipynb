{
  "nbformat": 4,
  "nbformat_minor": 0,
  "metadata": {
    "colab": {
      "provenance": []
    },
    "kernelspec": {
      "name": "python3",
      "display_name": "Python 3"
    },
    "language_info": {
      "name": "python"
    }
  },
  "cells": [
    {
      "cell_type": "code",
      "execution_count": 4,
      "metadata": {
        "id": "UVHlNYDJgOwx",
        "colab": {
          "base_uri": "https://localhost:8080/",
          "height": 219
        },
        "outputId": "4843d0e0-e5cc-468f-a91a-51fc09b01f9f"
      },
      "outputs": [
        {
          "output_type": "execute_result",
          "data": {
            "text/plain": [
              "<pyspark.sql.session.SparkSession at 0x7902ac248d10>"
            ],
            "text/html": [
              "\n",
              "            <div>\n",
              "                <p><b>SparkSession - in-memory</b></p>\n",
              "                \n",
              "        <div>\n",
              "            <p><b>SparkContext</b></p>\n",
              "\n",
              "            <p><a href=\"http://3b0760fa9461:4040\">Spark UI</a></p>\n",
              "\n",
              "            <dl>\n",
              "              <dt>Version</dt>\n",
              "                <dd><code>v3.5.1</code></dd>\n",
              "              <dt>Master</dt>\n",
              "                <dd><code>local[*]</code></dd>\n",
              "              <dt>AppName</dt>\n",
              "                <dd><code>SparkSQLExercises</code></dd>\n",
              "            </dl>\n",
              "        </div>\n",
              "        \n",
              "            </div>\n",
              "        "
            ]
          },
          "metadata": {},
          "execution_count": 4
        }
      ],
      "source": [
        "from pyspark.sql import SparkSession\n",
        "\n",
        "spark=SparkSession.builder.appName(\"SQL Exercises\").getOrCreate()\n",
        "\n",
        "spark"
      ]
    },
    {
      "cell_type": "code",
      "source": [
        "#1. Create a new database\n",
        "spark.sql(\"CREATE DATABASE IF NOT EXISTS sales_db\")"
      ],
      "metadata": {
        "colab": {
          "base_uri": "https://localhost:8080/"
        },
        "id": "UQE_43aChbHu",
        "outputId": "596ca66e-080b-4438-83f6-7ff70153573b"
      },
      "execution_count": 5,
      "outputs": [
        {
          "output_type": "execute_result",
          "data": {
            "text/plain": [
              "DataFrame[]"
            ]
          },
          "metadata": {},
          "execution_count": 5
        }
      ]
    },
    {
      "cell_type": "code",
      "source": [
        "#2. Set current database\n",
        "spark.sql(\"USE sales_db\")"
      ],
      "metadata": {
        "colab": {
          "base_uri": "https://localhost:8080/"
        },
        "id": "7ezCebM9he2t",
        "outputId": "c52bec50-10fe-44dd-ccb9-3f94fad81a08"
      },
      "execution_count": 6,
      "outputs": [
        {
          "output_type": "execute_result",
          "data": {
            "text/plain": [
              "DataFrame[]"
            ]
          },
          "metadata": {},
          "execution_count": 6
        }
      ]
    },
    {
      "cell_type": "code",
      "source": [
        "#3. Create product_sales table\n",
        "spark.sql(\"\"\"\n",
        "CREATE TABLE IF NOT EXISTS product_sales (\n",
        "    ProductID INT,\n",
        "    ProductName STRING,\n",
        "    Category STRING,\n",
        "    Price DOUBLE,\n",
        "    Quantity INT,\n",
        "    SaleDate DATE\n",
        ")\n",
        "USING PARQUET\n",
        "\"\"\")"
      ],
      "metadata": {
        "colab": {
          "base_uri": "https://localhost:8080/"
        },
        "id": "lJr82xtuhl4t",
        "outputId": "55d23f54-eb69-4bac-b175-889e52fd8e26"
      },
      "execution_count": 7,
      "outputs": [
        {
          "output_type": "execute_result",
          "data": {
            "text/plain": [
              "DataFrame[]"
            ]
          },
          "metadata": {},
          "execution_count": 7
        }
      ]
    },
    {
      "cell_type": "code",
      "source": [
        "#4. Insert 5 rows into product_sales\n",
        "spark.sql(\"INSERT INTO product_sales VALUES (1, 'Laptop', 'Electronics', 55000, 2, DATE('2024-01-12'))\")\n",
        "spark.sql(\"INSERT INTO product_sales VALUES (2, 'Mouse', 'Electronics', 800, 5, DATE('2024-01-13'))\")\n",
        "spark.sql(\"INSERT INTO product_sales VALUES (3, 'Shirt', 'Fashion', 1200, 3, DATE('2024-02-01'))\")\n",
        "spark.sql(\"INSERT INTO product_sales VALUES (4, 'Book', 'Books', 500, 4, DATE('2024-02-15'))\")\n",
        "spark.sql(\"INSERT INTO product_sales VALUES (5, 'Chair', 'Furniture', 2000, 1, DATE('2024-03-10'))\")"
      ],
      "metadata": {
        "colab": {
          "base_uri": "https://localhost:8080/"
        },
        "id": "jJC3qvXrhoVE",
        "outputId": "a1044be4-0830-4b3a-df3e-dff6a8218f69"
      },
      "execution_count": 8,
      "outputs": [
        {
          "output_type": "execute_result",
          "data": {
            "text/plain": [
              "DataFrame[]"
            ]
          },
          "metadata": {},
          "execution_count": 8
        }
      ]
    },
    {
      "cell_type": "code",
      "source": [
        "#5. Select all records\n",
        "spark.sql(\"SELECT * FROM product_sales\").show()"
      ],
      "metadata": {
        "colab": {
          "base_uri": "https://localhost:8080/"
        },
        "id": "xRw0AM_zhvfE",
        "outputId": "44ed44c8-65d0-4201-ffa3-300aa976e3db"
      },
      "execution_count": 9,
      "outputs": [
        {
          "output_type": "stream",
          "name": "stdout",
          "text": [
            "+---------+-----------+-----------+-------+--------+----------+\n",
            "|ProductID|ProductName|   Category|  Price|Quantity|  SaleDate|\n",
            "+---------+-----------+-----------+-------+--------+----------+\n",
            "|        1|     Laptop|Electronics|55000.0|       2|2024-01-12|\n",
            "|        2|      Mouse|Electronics|  800.0|       5|2024-01-13|\n",
            "|        5|      Chair|  Furniture| 2000.0|       1|2024-03-10|\n",
            "|        3|      Shirt|    Fashion| 1200.0|       3|2024-02-01|\n",
            "|        4|       Book|      Books|  500.0|       4|2024-02-15|\n",
            "+---------+-----------+-----------+-------+--------+----------+\n",
            "\n"
          ]
        }
      ]
    },
    {
      "cell_type": "code",
      "source": [
        "#6. Products with price > 500\n",
        "spark.sql(\"SELECT * FROM product_sales WHERE Price > 500\").show()"
      ],
      "metadata": {
        "colab": {
          "base_uri": "https://localhost:8080/"
        },
        "id": "VbsySQsIh1ps",
        "outputId": "d05a0cea-404d-4198-be48-322a91656966"
      },
      "execution_count": 10,
      "outputs": [
        {
          "output_type": "stream",
          "name": "stdout",
          "text": [
            "+---------+-----------+-----------+-------+--------+----------+\n",
            "|ProductID|ProductName|   Category|  Price|Quantity|  SaleDate|\n",
            "+---------+-----------+-----------+-------+--------+----------+\n",
            "|        1|     Laptop|Electronics|55000.0|       2|2024-01-12|\n",
            "|        2|      Mouse|Electronics|  800.0|       5|2024-01-13|\n",
            "|        5|      Chair|  Furniture| 2000.0|       1|2024-03-10|\n",
            "|        3|      Shirt|    Fashion| 1200.0|       3|2024-02-01|\n",
            "+---------+-----------+-----------+-------+--------+----------+\n",
            "\n"
          ]
        }
      ]
    },
    {
      "cell_type": "code",
      "source": [
        "#7. Total sale amount for each product\n",
        "spark.sql(\"SELECT ProductName, Price * Quantity AS TotalSale FROM product_sales\").show()"
      ],
      "metadata": {
        "colab": {
          "base_uri": "https://localhost:8080/"
        },
        "id": "W-xfvtm8h4VS",
        "outputId": "e8fb1ff3-2494-4e43-eb5d-83c094989c8e"
      },
      "execution_count": 11,
      "outputs": [
        {
          "output_type": "stream",
          "name": "stdout",
          "text": [
            "+-----------+---------+\n",
            "|ProductName|TotalSale|\n",
            "+-----------+---------+\n",
            "|     Laptop| 110000.0|\n",
            "|      Mouse|   4000.0|\n",
            "|      Chair|   2000.0|\n",
            "|      Shirt|   3600.0|\n",
            "|       Book|   2000.0|\n",
            "+-----------+---------+\n",
            "\n"
          ]
        }
      ]
    },
    {
      "cell_type": "code",
      "source": [
        "#8. Count of products sold per category\n",
        "spark.sql(\"SELECT Category, SUM(Quantity) AS TotalSold FROM product_sales GROUP BY Category\").show()"
      ],
      "metadata": {
        "colab": {
          "base_uri": "https://localhost:8080/"
        },
        "id": "huxTiJs_h-2z",
        "outputId": "b50d0f19-9104-411f-9a9f-f2b40c824e4a"
      },
      "execution_count": 12,
      "outputs": [
        {
          "output_type": "stream",
          "name": "stdout",
          "text": [
            "+-----------+---------+\n",
            "|   Category|TotalSold|\n",
            "+-----------+---------+\n",
            "|Electronics|        7|\n",
            "|  Furniture|        1|\n",
            "|    Fashion|        3|\n",
            "|      Books|        4|\n",
            "+-----------+---------+\n",
            "\n"
          ]
        }
      ]
    },
    {
      "cell_type": "code",
      "source": [
        "#9. Sort by total sales descending\n",
        "spark.sql(\"SELECT ProductName, Price * Quantity AS TotalSale FROM product_sales ORDER BY TotalSale DESC\").show()"
      ],
      "metadata": {
        "colab": {
          "base_uri": "https://localhost:8080/"
        },
        "id": "eq0am_k3iKqW",
        "outputId": "ec3b5bb5-c104-4995-c8fd-ef42f89b25fa"
      },
      "execution_count": 13,
      "outputs": [
        {
          "output_type": "stream",
          "name": "stdout",
          "text": [
            "+-----------+---------+\n",
            "|ProductName|TotalSale|\n",
            "+-----------+---------+\n",
            "|     Laptop| 110000.0|\n",
            "|      Mouse|   4000.0|\n",
            "|      Shirt|   3600.0|\n",
            "|      Chair|   2000.0|\n",
            "|       Book|   2000.0|\n",
            "+-----------+---------+\n",
            "\n"
          ]
        }
      ]
    },
    {
      "cell_type": "code",
      "source": [
        "#10. Create dummy DataFrame\n",
        "from pyspark.sql import Row\n",
        "\n",
        "temp_data = [\n",
        "    Row(ProductID=101, ProductName=\"Tablet\", Quantity=1),\n",
        "    Row(ProductID=102, ProductName=\"Headphones\", Quantity=3)\n",
        "]\n",
        "\n",
        "df_temp = spark.createDataFrame(temp_data)"
      ],
      "metadata": {
        "id": "RDJrZ0LMiQLx"
      },
      "execution_count": 14,
      "outputs": []
    },
    {
      "cell_type": "code",
      "source": [
        "#11. Register as temp view\n",
        "df_temp.createOrReplaceTempView(\"temp_orders\")"
      ],
      "metadata": {
        "id": "9wsI0woNiUgN"
      },
      "execution_count": 15,
      "outputs": []
    },
    {
      "cell_type": "code",
      "source": [
        "#12. SQL query: quantity > 1\n",
        "spark.sql(\"SELECT * FROM temp_orders WHERE Quantity > 1\").show()"
      ],
      "metadata": {
        "colab": {
          "base_uri": "https://localhost:8080/"
        },
        "id": "MVCSD10IiXzw",
        "outputId": "9aa29494-0632-4241-b934-24502e33010e"
      },
      "execution_count": 16,
      "outputs": [
        {
          "output_type": "stream",
          "name": "stdout",
          "text": [
            "+---------+-----------+--------+\n",
            "|ProductID|ProductName|Quantity|\n",
            "+---------+-----------+--------+\n",
            "|      102| Headphones|       3|\n",
            "+---------+-----------+--------+\n",
            "\n"
          ]
        }
      ]
    },
    {
      "cell_type": "code",
      "source": [
        "#13. Create global temp view\n",
        "df_temp.createOrReplaceGlobalTempView(\"global_orders\")"
      ],
      "metadata": {
        "id": "j3Vrz3baic7h"
      },
      "execution_count": 17,
      "outputs": []
    },
    {
      "cell_type": "code",
      "source": [
        "#14. Query from another cell/session\n",
        "spark.sql(\"SELECT * FROM global_temp.global_orders\").show()"
      ],
      "metadata": {
        "colab": {
          "base_uri": "https://localhost:8080/"
        },
        "id": "cKfZdBPQihT_",
        "outputId": "fa54b4d3-4c8a-430f-8b4f-b6854d00867f"
      },
      "execution_count": 18,
      "outputs": [
        {
          "output_type": "stream",
          "name": "stdout",
          "text": [
            "+---------+-----------+--------+\n",
            "|ProductID|ProductName|Quantity|\n",
            "+---------+-----------+--------+\n",
            "|      101|     Tablet|       1|\n",
            "|      102| Headphones|       3|\n",
            "+---------+-----------+--------+\n",
            "\n"
          ]
        }
      ]
    },
    {
      "cell_type": "code",
      "source": [
        "#15. Create customer_details table\n",
        "spark.sql(\"\"\"\n",
        "CREATE TABLE IF NOT EXISTS customer_details (\n",
        "    CustomerID INT,\n",
        "    Name STRING,\n",
        "    Gender STRING,\n",
        "    City STRING,\n",
        "    SignupDate DATE\n",
        ")\n",
        "USING PARQUET\n",
        "\"\"\")"
      ],
      "metadata": {
        "colab": {
          "base_uri": "https://localhost:8080/"
        },
        "id": "DWkMFILMiwFb",
        "outputId": "09072886-e0a2-4a22-8a1a-22f308a7c337"
      },
      "execution_count": 19,
      "outputs": [
        {
          "output_type": "execute_result",
          "data": {
            "text/plain": [
              "DataFrame[]"
            ]
          },
          "metadata": {},
          "execution_count": 19
        }
      ]
    },
    {
      "cell_type": "code",
      "source": [
        "#16. Insert 3 records\n",
        "spark.sql(\"INSERT INTO customer_details VALUES (1, 'Ali', 'Male', 'Hyderabad', DATE('2022-05-10'))\")\n",
        "spark.sql(\"INSERT INTO customer_details VALUES (2, 'Neha', 'Female', 'Mumbai', DATE('2023-01-15'))\")\n",
        "spark.sql(\"INSERT INTO customer_details VALUES (3, 'Ravi', 'Male', 'Delhi', DATE('2021-12-01'))\")"
      ],
      "metadata": {
        "colab": {
          "base_uri": "https://localhost:8080/"
        },
        "id": "oA4mJNlri4R0",
        "outputId": "d2594aca-ab00-45b9-e075-3f2256fab528"
      },
      "execution_count": 20,
      "outputs": [
        {
          "output_type": "execute_result",
          "data": {
            "text/plain": [
              "DataFrame[]"
            ]
          },
          "metadata": {},
          "execution_count": 20
        }
      ]
    },
    {
      "cell_type": "code",
      "source": [
        "#17. Join (simulate match with ProductID = CustomerID)\n",
        "spark.sql(\"\"\"\n",
        "SELECT p.ProductID, p.ProductName, c.Name, c.City\n",
        "FROM product_sales p\n",
        "JOIN customer_details c\n",
        "ON p.ProductID = c.CustomerID\n",
        "\"\"\").show()"
      ],
      "metadata": {
        "colab": {
          "base_uri": "https://localhost:8080/"
        },
        "id": "Q_tWS6aki8uQ",
        "outputId": "374cb245-721f-4318-bc0a-bf7d219cd646"
      },
      "execution_count": 21,
      "outputs": [
        {
          "output_type": "stream",
          "name": "stdout",
          "text": [
            "+---------+-----------+----+---------+\n",
            "|ProductID|ProductName|Name|     City|\n",
            "+---------+-----------+----+---------+\n",
            "|        1|     Laptop| Ali|Hyderabad|\n",
            "|        2|      Mouse|Neha|   Mumbai|\n",
            "|        3|      Shirt|Ravi|    Delhi|\n",
            "+---------+-----------+----+---------+\n",
            "\n"
          ]
        }
      ]
    },
    {
      "cell_type": "code",
      "source": [
        "#18. Customers who bought more than 2 products\n",
        "spark.sql(\"\"\"\n",
        "SELECT c.Name, SUM(p.Quantity) AS TotalPurchased\n",
        "FROM product_sales p\n",
        "JOIN customer_details c\n",
        "ON p.ProductID = c.CustomerID\n",
        "GROUP BY c.Name\n",
        "HAVING TotalPurchased > 2\n",
        "\"\"\").show()"
      ],
      "metadata": {
        "colab": {
          "base_uri": "https://localhost:8080/"
        },
        "id": "XEfKyJqVjT1o",
        "outputId": "f24688ed-4aff-45a1-af65-9a47b91cf59b"
      },
      "execution_count": 22,
      "outputs": [
        {
          "output_type": "stream",
          "name": "stdout",
          "text": [
            "+----+--------------+\n",
            "|Name|TotalPurchased|\n",
            "+----+--------------+\n",
            "|Neha|             5|\n",
            "|Ravi|             3|\n",
            "+----+--------------+\n",
            "\n"
          ]
        }
      ]
    },
    {
      "cell_type": "code",
      "source": [
        "#19. Create sales_summary view\n",
        "spark.sql(\"\"\"\n",
        "CREATE OR REPLACE VIEW sales_summary AS\n",
        "SELECT ProductName, Price, Quantity, (Price * Quantity) AS Total\n",
        "FROM product_sales\n",
        "\"\"\")"
      ],
      "metadata": {
        "colab": {
          "base_uri": "https://localhost:8080/"
        },
        "id": "PWiP0tEnja4V",
        "outputId": "249521fe-83d3-47cf-a815-dbf312f63bc1"
      },
      "execution_count": 23,
      "outputs": [
        {
          "output_type": "execute_result",
          "data": {
            "text/plain": [
              "DataFrame[]"
            ]
          },
          "metadata": {},
          "execution_count": 23
        }
      ]
    },
    {
      "cell_type": "code",
      "source": [
        "#20. Query sales_summary where Total > 1000\n",
        "spark.sql(\"SELECT * FROM sales_summary WHERE Total > 1000\").show()"
      ],
      "metadata": {
        "colab": {
          "base_uri": "https://localhost:8080/"
        },
        "id": "GqNu9RMdjf8s",
        "outputId": "4c3879df-c794-41ec-caf3-b5b892e6d09a"
      },
      "execution_count": 24,
      "outputs": [
        {
          "output_type": "stream",
          "name": "stdout",
          "text": [
            "+-----------+-------+--------+--------+\n",
            "|ProductName|  Price|Quantity|   Total|\n",
            "+-----------+-------+--------+--------+\n",
            "|     Laptop|55000.0|       2|110000.0|\n",
            "|      Mouse|  800.0|       5|  4000.0|\n",
            "|      Chair| 2000.0|       1|  2000.0|\n",
            "|      Shirt| 1200.0|       3|  3600.0|\n",
            "|       Book|  500.0|       4|  2000.0|\n",
            "+-----------+-------+--------+--------+\n",
            "\n"
          ]
        }
      ]
    },
    {
      "cell_type": "code",
      "source": [
        "#21. Drop the view\n",
        "spark.sql(\"DROP VIEW IF EXISTS sales_summary\")"
      ],
      "metadata": {
        "colab": {
          "base_uri": "https://localhost:8080/"
        },
        "id": "DW-Xs9PEjj-2",
        "outputId": "586e6e84-e9b0-47ef-eca3-efb279f0f155"
      },
      "execution_count": 25,
      "outputs": [
        {
          "output_type": "execute_result",
          "data": {
            "text/plain": [
              "DataFrame[]"
            ]
          },
          "metadata": {},
          "execution_count": 25
        }
      ]
    },
    {
      "cell_type": "code",
      "source": [
        "#22. Drop both tables\n",
        "spark.sql(\"DROP TABLE IF EXISTS product_sales\")\n",
        "spark.sql(\"DROP TABLE IF EXISTS customer_details\")"
      ],
      "metadata": {
        "colab": {
          "base_uri": "https://localhost:8080/"
        },
        "id": "OHQBF76OjohF",
        "outputId": "d0bbd02f-9f0c-485e-bfac-f6ea1e24cd82"
      },
      "execution_count": 26,
      "outputs": [
        {
          "output_type": "execute_result",
          "data": {
            "text/plain": [
              "DataFrame[]"
            ]
          },
          "metadata": {},
          "execution_count": 26
        }
      ]
    },
    {
      "cell_type": "code",
      "source": [
        "#23. Drop the database\n",
        "spark.sql(\"DROP DATABASE IF EXISTS sales_db CASCADE\")"
      ],
      "metadata": {
        "colab": {
          "base_uri": "https://localhost:8080/"
        },
        "id": "z3Tie2vFkiXh",
        "outputId": "b136eaa0-3de5-4b83-c5bd-7d99e3420440"
      },
      "execution_count": 27,
      "outputs": [
        {
          "output_type": "execute_result",
          "data": {
            "text/plain": [
              "DataFrame[]"
            ]
          },
          "metadata": {},
          "execution_count": 27
        }
      ]
    }
  ]
}