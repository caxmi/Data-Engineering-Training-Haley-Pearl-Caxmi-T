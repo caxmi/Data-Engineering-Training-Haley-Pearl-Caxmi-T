{
 "cells": [
  {
   "cell_type": "code",
   "execution_count": 0,
   "metadata": {
    "application/vnd.databricks.v1+cell": {
     "cellMetadata": {
      "byteLimit": 2048000,
      "rowLimit": 10000
     },
     "inputWidgets": {},
     "nuid": "55d55695-4f31-4b58-a77b-fe7d29e8ce7d",
     "showTitle": false,
     "tableResultSettingsMap": {},
     "title": ""
    }
   },
   "outputs": [
    {
     "data": {
      "text/html": [
       "\n",
       "            <div>\n",
       "                <p><b>SparkSession - hive</b></p>\n",
       "                \n",
       "        <div>\n",
       "            <p><b>SparkContext</b></p>\n",
       "\n",
       "            <p><a href=\"/?o=833800893595081#setting/sparkui/0611-043338-tjd8m6e5/driver-4284921883300395787\">Spark UI</a></p>\n",
       "\n",
       "            <dl>\n",
       "              <dt>Version</dt>\n",
       "                <dd><code>v3.5.0</code></dd>\n",
       "              <dt>Master</dt>\n",
       "                <dd><code>local[*, 4]</code></dd>\n",
       "              <dt>AppName</dt>\n",
       "                <dd><code>Databricks Shell</code></dd>\n",
       "            </dl>\n",
       "        </div>\n",
       "        \n",
       "            </div>\n",
       "        "
      ],
      "text/plain": [
       "<pyspark.sql.session.SparkSession at 0x7b4f68233fd0>"
      ]
     },
     "execution_count": 2,
     "metadata": {},
     "output_type": "execute_result"
    }
   ],
   "source": [
    "from pyspark.sql import SparkSession\n",
    "spark=SparkSession.builder.appName(\"haleyassignment2\").getOrCreate()\n",
    "spark"
   ]
  },
  {
   "cell_type": "code",
   "execution_count": 0,
   "metadata": {
    "application/vnd.databricks.v1+cell": {
     "cellMetadata": {
      "byteLimit": 2048000,
      "rowLimit": 10000
     },
     "inputWidgets": {},
     "nuid": "9992fbef-3785-48fc-aa0c-db44bae38133",
     "showTitle": false,
     "tableResultSettingsMap": {},
     "title": ""
    }
   },
   "outputs": [
    {
     "name": "stdout",
     "output_type": "stream",
     "text": [
      "Requirement already satisfied: dlt in /local_disk0/.ephemeral_nfs/envs/pythonEnv-d39ceea4-a038-4c13-8eb5-93e66e11e4de/lib/python3.11/site-packages (1.11.0)\n",
      "Requirement already satisfied: PyYAML>=5.4.1 in /databricks/python3/lib/python3.11/site-packages (from dlt) (6.0)\n",
      "Requirement already satisfied: click>=7.1 in /databricks/python3/lib/python3.11/site-packages (from dlt) (8.0.4)\n",
      "Requirement already satisfied: fsspec>=2022.4.0 in /local_disk0/.ephemeral_nfs/envs/pythonEnv-d39ceea4-a038-4c13-8eb5-93e66e11e4de/lib/python3.11/site-packages (from dlt) (2025.5.1)\n",
      "Requirement already satisfied: gitpython>=3.1.29 in /databricks/python3/lib/python3.11/site-packages (from dlt) (3.1.43)\n",
      "Requirement already satisfied: giturlparse>=0.10.0 in /local_disk0/.ephemeral_nfs/envs/pythonEnv-d39ceea4-a038-4c13-8eb5-93e66e11e4de/lib/python3.11/site-packages (from dlt) (0.12.0)\n",
      "Requirement already satisfied: hexbytes>=0.2.2 in /local_disk0/.ephemeral_nfs/envs/pythonEnv-d39ceea4-a038-4c13-8eb5-93e66e11e4de/lib/python3.11/site-packages (from dlt) (1.3.1)\n",
      "Requirement already satisfied: humanize>=4.4.0 in /local_disk0/.ephemeral_nfs/envs/pythonEnv-d39ceea4-a038-4c13-8eb5-93e66e11e4de/lib/python3.11/site-packages (from dlt) (4.12.3)\n",
      "Requirement already satisfied: jsonpath-ng>=1.5.3 in /local_disk0/.ephemeral_nfs/envs/pythonEnv-d39ceea4-a038-4c13-8eb5-93e66e11e4de/lib/python3.11/site-packages (from dlt) (1.7.0)\n",
      "Requirement already satisfied: makefun>=1.15.0 in /local_disk0/.ephemeral_nfs/envs/pythonEnv-d39ceea4-a038-4c13-8eb5-93e66e11e4de/lib/python3.11/site-packages (from dlt) (1.16.0)\n",
      "Requirement already satisfied: orjson!=3.10.1,!=3.9.11,!=3.9.12,!=3.9.13,!=3.9.14,<4,>=3.6.7 in /local_disk0/.ephemeral_nfs/envs/pythonEnv-d39ceea4-a038-4c13-8eb5-93e66e11e4de/lib/python3.11/site-packages (from dlt) (3.10.18)\n",
      "Requirement already satisfied: packaging>=21.1 in /databricks/python3/lib/python3.11/site-packages (from dlt) (23.2)\n",
      "Requirement already satisfied: pathvalidate>=2.5.2 in /local_disk0/.ephemeral_nfs/envs/pythonEnv-d39ceea4-a038-4c13-8eb5-93e66e11e4de/lib/python3.11/site-packages (from dlt) (3.2.3)\n",
      "Requirement already satisfied: pendulum>=2.1.2 in /local_disk0/.ephemeral_nfs/envs/pythonEnv-d39ceea4-a038-4c13-8eb5-93e66e11e4de/lib/python3.11/site-packages (from dlt) (3.1.0)\n",
      "Requirement already satisfied: pluggy>=1.3.0 in /local_disk0/.ephemeral_nfs/envs/pythonEnv-d39ceea4-a038-4c13-8eb5-93e66e11e4de/lib/python3.11/site-packages (from dlt) (1.6.0)\n",
      "Requirement already satisfied: pytz>=2022.6 in /databricks/python3/lib/python3.11/site-packages (from dlt) (2022.7)\n",
      "Requirement already satisfied: requests>=2.26.0 in /databricks/python3/lib/python3.11/site-packages (from dlt) (2.31.0)\n",
      "Requirement already satisfied: requirements-parser>=0.5.0 in /local_disk0/.ephemeral_nfs/envs/pythonEnv-d39ceea4-a038-4c13-8eb5-93e66e11e4de/lib/python3.11/site-packages (from dlt) (0.13.0)\n",
      "Requirement already satisfied: rich-argparse<2.0.0,>=1.6.0 in /local_disk0/.ephemeral_nfs/envs/pythonEnv-d39ceea4-a038-4c13-8eb5-93e66e11e4de/lib/python3.11/site-packages (from dlt) (1.7.1)\n",
      "Requirement already satisfied: semver>=3.0.0 in /local_disk0/.ephemeral_nfs/envs/pythonEnv-d39ceea4-a038-4c13-8eb5-93e66e11e4de/lib/python3.11/site-packages (from dlt) (3.0.4)\n",
      "Requirement already satisfied: setuptools>=65.6.0 in /databricks/python3/lib/python3.11/site-packages (from dlt) (68.0.0)\n",
      "Requirement already satisfied: simplejson>=3.17.5 in /local_disk0/.ephemeral_nfs/envs/pythonEnv-d39ceea4-a038-4c13-8eb5-93e66e11e4de/lib/python3.11/site-packages (from dlt) (3.20.1)\n",
      "Requirement already satisfied: sqlglot>=23.0.0 in /local_disk0/.ephemeral_nfs/envs/pythonEnv-d39ceea4-a038-4c13-8eb5-93e66e11e4de/lib/python3.11/site-packages (from dlt) (26.28.0)\n",
      "Requirement already satisfied: tenacity>=8.0.2 in /databricks/python3/lib/python3.11/site-packages (from dlt) (8.2.2)\n",
      "Requirement already satisfied: tomlkit>=0.11.3 in /local_disk0/.ephemeral_nfs/envs/pythonEnv-d39ceea4-a038-4c13-8eb5-93e66e11e4de/lib/python3.11/site-packages (from dlt) (0.13.3)\n",
      "Requirement already satisfied: typing-extensions>=4.8.0 in /databricks/python3/lib/python3.11/site-packages (from dlt) (4.10.0)\n",
      "Requirement already satisfied: tzdata>=2022.1 in /databricks/python3/lib/python3.11/site-packages (from dlt) (2022.1)\n",
      "Requirement already satisfied: gitdb<5,>=4.0.1 in /databricks/python3/lib/python3.11/site-packages (from gitpython>=3.1.29->dlt) (4.0.11)\n",
      "Requirement already satisfied: ply in /local_disk0/.ephemeral_nfs/envs/pythonEnv-d39ceea4-a038-4c13-8eb5-93e66e11e4de/lib/python3.11/site-packages (from jsonpath-ng>=1.5.3->dlt) (3.11)\n",
      "Requirement already satisfied: python-dateutil>=2.6 in /databricks/python3/lib/python3.11/site-packages (from pendulum>=2.1.2->dlt) (2.8.2)\n",
      "Requirement already satisfied: charset-normalizer<4,>=2 in /databricks/python3/lib/python3.11/site-packages (from requests>=2.26.0->dlt) (2.0.4)\n",
      "Requirement already satisfied: idna<4,>=2.5 in /databricks/python3/lib/python3.11/site-packages (from requests>=2.26.0->dlt) (3.4)\n",
      "Requirement already satisfied: urllib3<3,>=1.21.1 in /databricks/python3/lib/python3.11/site-packages (from requests>=2.26.0->dlt) (1.26.16)\n",
      "Requirement already satisfied: certifi>=2017.4.17 in /databricks/python3/lib/python3.11/site-packages (from requests>=2.26.0->dlt) (2023.7.22)\n",
      "Requirement already satisfied: rich>=11.0.0 in /local_disk0/.ephemeral_nfs/envs/pythonEnv-d39ceea4-a038-4c13-8eb5-93e66e11e4de/lib/python3.11/site-packages (from rich-argparse<2.0.0,>=1.6.0->dlt) (14.0.0)\n",
      "Requirement already satisfied: smmap<6,>=3.0.1 in /databricks/python3/lib/python3.11/site-packages (from gitdb<5,>=4.0.1->gitpython>=3.1.29->dlt) (5.0.1)\n",
      "Requirement already satisfied: six>=1.5 in /usr/lib/python3/dist-packages (from python-dateutil>=2.6->pendulum>=2.1.2->dlt) (1.16.0)\n",
      "Requirement already satisfied: markdown-it-py>=2.2.0 in /local_disk0/.ephemeral_nfs/envs/pythonEnv-d39ceea4-a038-4c13-8eb5-93e66e11e4de/lib/python3.11/site-packages (from rich>=11.0.0->rich-argparse<2.0.0,>=1.6.0->dlt) (3.0.0)\n",
      "Requirement already satisfied: pygments<3.0.0,>=2.13.0 in /databricks/python3/lib/python3.11/site-packages (from rich>=11.0.0->rich-argparse<2.0.0,>=1.6.0->dlt) (2.15.1)\n",
      "Requirement already satisfied: mdurl~=0.1 in /local_disk0/.ephemeral_nfs/envs/pythonEnv-d39ceea4-a038-4c13-8eb5-93e66e11e4de/lib/python3.11/site-packages (from markdown-it-py>=2.2.0->rich>=11.0.0->rich-argparse<2.0.0,>=1.6.0->dlt) (0.1.2)\n",
      "\u001b[43mNote: you may need to restart the kernel using %restart_python or dbutils.library.restartPython() to use updated packages.\u001b[0m\n"
     ]
    }
   ],
   "source": [
    "!pip install dlt"
   ]
  },
  {
   "cell_type": "code",
   "execution_count": 0,
   "metadata": {
    "application/vnd.databricks.v1+cell": {
     "cellMetadata": {
      "byteLimit": 2048000,
      "rowLimit": 10000
     },
     "inputWidgets": {},
     "nuid": "510a8883-201d-4a63-8d49-4cc667d8b1b8",
     "showTitle": false,
     "tableResultSettingsMap": {},
     "title": ""
    }
   },
   "outputs": [],
   "source": [
    "%restart_python"
   ]
  },
  {
   "cell_type": "code",
   "execution_count": 0,
   "metadata": {
    "application/vnd.databricks.v1+cell": {
     "cellMetadata": {
      "byteLimit": 2048000,
      "rowLimit": 10000
     },
     "inputWidgets": {},
     "nuid": "93e812d3-b0f4-48c1-8429-ba58e7c351fa",
     "showTitle": false,
     "tableResultSettingsMap": {},
     "title": ""
    }
   },
   "outputs": [
    {
     "data": {
      "text/plain": [
       "<dlt.dataset.Dataset at 0x7ed84b43bf50>"
      ]
     },
     "metadata": {},
     "output_type": "display_data"
    },
    {
     "data": {
      "text/html": [
       "\n",
       "<html>\n",
       "  <style>\n",
       "<style>\n",
       "      html {\n",
       "        font-family: -apple-system,BlinkMacSystemFont,Segoe UI,Roboto,Helvetica Neue,Arial,\n",
       "        Noto Sans,sans-serif,Apple Color Emoji,Segoe UI Emoji,Segoe UI Symbol,\n",
       "        Noto Color Emoji,FontAwesome;\n",
       "        font-size: 13;\n",
       "      }\n",
       "\n",
       "      .ansiout {\n",
       "        padding-bottom: 8px;\n",
       "      }\n",
       "\n",
       "      .createPipeline {\n",
       "        background-color: rgb(34, 114, 180);\n",
       "        color: white;\n",
       "        text-decoration: none;\n",
       "        padding: 4px 12px;\n",
       "        border-radius: 4px;\n",
       "        display: inline-block;\n",
       "      }\n",
       "\n",
       "      .createPipeline:hover {\n",
       "        background-color: #195487;\n",
       "      }\n",
       "\n",
       "      .tag {\n",
       "        border: none;\n",
       "        color: rgb(31, 39, 45);\n",
       "        padding: 2px 4px;\n",
       "        font-weight: 600;\n",
       "        background-color: rgba(93, 114, 131, 0.08);\n",
       "        border-radius: 4px;\n",
       "        margin-right: 0;\n",
       "        display: inline-block;\n",
       "        cursor: default;\n",
       "      }\n",
       "\n",
       "      table {\n",
       "        border-collapse: collapse;\n",
       "        font-size: 13px;\n",
       "      }\n",
       "\n",
       "      th {\n",
       "        text-align: left;\n",
       "        background-color: #F2F5F7;\n",
       "        padding-left: 8px;\n",
       "        padding-right: 8px;\n",
       "      }\n",
       "\n",
       "      tr {\n",
       "        border-bottom: solid;\n",
       "        border-bottom-color: #CDDAE5;\n",
       "        border-bottom-width: 1px;\n",
       "      }\n",
       "\n",
       "      td {\n",
       "        padding-left: 8px;\n",
       "        padding-right: 8px;\n",
       "      }\n",
       "\n",
       "      .dlt-label {\n",
       "        font-weight: bold;\n",
       "      }\n",
       "\n",
       "      ul {\n",
       "        list-style: circle;\n",
       "        padding-inline-start: 12px;\n",
       "      }\n",
       "\n",
       "      li {\n",
       "        padding-bottom: 4px;\n",
       "      }\n",
       "</style></style>\n",
       "  \n",
       "<div class=\"ansiout\">\n",
       "<span class='tag'>rea</span> is defined as a\n",
       "<span class=\"dlt-label\">Delta Live Tables</span> dataset\n",
       " with schema: \n",
       "</div>\n",
       "\n",
       "  \n",
       "<div class=\"ansiout\">\n",
       "   <table>\n",
       "     <tbody>\n",
       "       <tr>\n",
       "         <th>Name</th>\n",
       "         <th>Type</th>\n",
       "       </tr>\n",
       "       \n",
       "<tr>\n",
       "   <td>CustomerID</td>\n",
       "   <td>int</td>\n",
       "</tr>\n",
       "\n",
       "<tr>\n",
       "   <td>Name</td>\n",
       "   <td>string</td>\n",
       "</tr>\n",
       "\n",
       "<tr>\n",
       "   <td>City</td>\n",
       "   <td>string</td>\n",
       "</tr>\n",
       "\n",
       "<tr>\n",
       "   <td>Age</td>\n",
       "   <td>int</td>\n",
       "</tr>\n",
       "     </tbody>\n",
       "   </table>\n",
       "</div>\n",
       "\n",
       "  <div class =\"ansiout\">\n",
       "    To populate your table you must either:\n",
       "    <ul>\n",
       "      <li>\n",
       "        Run an existing pipeline using the\n",
       "        <span class=\"dlt-label\">Delta Live Tables</span> menu\n",
       "      </li>\n",
       "      <li>\n",
       "        Create a new pipeline: <a class='createPipeline' href=\"?o=833800893595081#joblist/pipelines/create?initialSource=%2FUsers%2Fazuser3544_mml.local%40techademy.com%2Fdelta&redirectNotebookId=2677568704599191\">Create Pipeline</a>\n",
       "      </li>\n",
       "    </ul>\n",
       "  <div>\n",
       "</html>\n"
      ]
     },
     "metadata": {},
     "output_type": "display_data"
    }
   ],
   "source": [
    "import dlt\n",
    "\n",
    "from pyspark.sql.functions import col\n",
    "@dlt.table\n",
    "def rea():\n",
    "    spark.conf.set(\"fs.azure.account.key.hestore.blob.core.windows.net\",\"-----Access-keyyyy---\")\n",
    "    customers_df= spark.read.option(\"header\", True).option(\"inferSchema\", True).csv(\"wasbs://june13assignment1@hestore.blob.core.windows.net/customers.csv\")\n",
    "    return customers_df\n",
    "df=rea()\n",
    "display(df)"
   ]
  }
 ],
 "metadata": {
  "application/vnd.databricks.v1+notebook": {
   "computePreferences": null,
   "dashboards": [],
   "environmentMetadata": {
    "base_environment": "",
    "environment_version": "2"
   },
   "inputWidgetPreferences": null,
   "language": "python",
   "notebookMetadata": {
    "pythonIndentUnit": 4
   },
   "notebookName": "delta",
   "widgets": {}
  },
  "language_info": {
   "name": "python"
  }
 },
 "nbformat": 4,
 "nbformat_minor": 0
}
